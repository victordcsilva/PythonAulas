{
 "cells": [
  {
   "cell_type": "markdown",
   "metadata": {},
   "source": [
    "# Programação Orientada a Objetos com Python\n",
    "\n",
    "**Programas:**\n",
    "- São definidos como um conjunto de instruções organizadas para execução no processador do computador. \n",
    "- Implementados através de uma linguagem de programação.\n",
    "\n",
    "**Linguagens de Programação:**\n",
    "- Comunicação Homem x Máquina:\n",
    "    - Estrutura sintática: Cada declaração numa linguagem de alto nível equivale a várias declarações numa linguagem de baixo nível. \n",
    "\n",
    "**Tipos de linguagens:**\n",
    "- Baixo nível:\n",
    "    - Retristas a linguagem de máquina;\n",
    "    - Forte relação entre as operações implementadas pela línguagem e as operações implementadas pelo hardware.\n",
    "- Alto nível:\n",
    "    - Aproximam-se das linguagens utilizadas por humanos para expressar problemas e algoritmos.\n",
    "**Compilador:**\n",
    "- Programa que traduz um programa inteiro de uma linguagem de alto nível para linguagem de máquina. \n",
    "**Interpretador:**\n",
    "- Programa que traduz uma instrução de um programa para uma a linguagem de máquina e, em seguida, a executa.\n",
    "**Programa Fonte:**\n",
    "- Programa escrito em linguagem de programação.\n",
    "- É o programa que vai ser compilado para gerar um programa objeto. \n",
    "**Programa Objeto:** \n",
    "- Programa originado depois de o programa fonte ser compilado, isto é, o programa escrito em linguagem de máquina.\n",
    "**Programa Executável:**\n",
    "- Programa em linguagem de máquina pronto para ser executado. \n",
    "**Compilação:**\n",
    "- A compilação considera parts maiores de código sempre, é preciso entender o todo do código. \n",
    "- Não precisa ser feita em toda aplicação, mas em tudo o que é necessário em determinada parte do código. \n",
    "- A análise é feita de forma semelhante ao da interpretação, tanto que, muitas vezes o processo de interpretação no fundo é feito por um compilador. \n",
    "- O funcionamento deste compilador é um pouco diferente do interpretador. Mas a análise léxica, sintática e semântica que todo compilador faz também é necessária no interpretador. \n",
    "**Interpretação:**\n",
    "- Geralmente ocorre em cima do código fonte da aplicação escrita. Existem várias formas de proceder a interpretação que é a análise do código no momento da execução. Isso pode ser feito em partes pequenas (linhas) ou em partes maiores (funções ou arquivos).\n",
    "- Neste processo a análise do código é feita todas as vezes que ele precisa executar e os erros só são detectados durante a execução. \n",
    "\n",
    "### Modelo de dados \n",
    "- Todos os dados em Python são representados por objetos ou por relações entre objetos.\n",
    "- Cada objeto é umas abstração que possui:\n",
    "    - Tipo (operações)\n",
    "    - Identificador (fixo)\n",
    "    - Valor (variável)\n",
    "    \n",
    "### Paradigma da Orientação a Objetos\n",
    "\n",
    "- Um paradigma é uma forma de abordar um problema.\n",
    "    - No contexto da modelagem de um sistema de software, um paradigma está relacionado com a forma pela qual esse sistema é entendido, projetado e contruído.\n",
    "    - A primeira abordagem usada foi o de paradigma estruturado:\n",
    "        - Uso da técnica de decomposição funcional;\n",
    "        - \"Divida sucessivamente um problema complexo em subproblemas\"\n",
    "\n",
    "- **Paradigma da Orientação a Objetos:**\n",
    "    - Visualiza um sistema de software como uma coleção de agentes interconectados chamados _objetos._\n",
    "    - Cada objeto é responsáevel por realizar tarefas específicas. \n",
    "    - É através da interação entre objetos que uma tarefa complexa é realizada. \n",
    "    - Um sistema de software orientado a objetos consiste de objetos em colaboração com o objetivo de realizar as funcionalidades desde sistema.\n",
    "    - Cada objeto é responsável por tarefas específicas.\n",
    "    - É através da cooperação entre objetos que a computação do sistema se desenvolve. \n",
    "    \n",
    "**Classe:**\n",
    "- Define uma estrututa de dados composta por atributos e métodos.\n",
    "- Estrutura elementar da orientação a objetos.\n",
    "- Modularidade e abstração de complexidade.\n",
    "- Criação de objetos.\n",
    "- Encapsula dados e abstrações procedurais necessárias para descrever o conteúdo de algumas entidade do mundo real.\n",
    "- O mundo real é formado de coisas:\n",
    "    - Na terminologia de OO, estas coisas do mundo real são denomidas objetos.\n",
    "    - Seres humanos costumam agrupar os objetos para entendê-los.\n",
    "    - A descrição de um grupo de objetos é denominada **classe de objetos,** ou simplemente **classe.**\n",
    "**Abstração na Orientação a Objetos**\n",
    "- A orientação a objetos faz uso intenso de abstrações\n",
    "    - Encapsulamento;\n",
    "    - Polimorfismo;\n",
    "    - Herança;\n",
    "    - Composição.\n",
    "- Uma abstração é uma representação das características e do comportamento relevantes de um conceito do mundo real para um determinado problema.\n",
    "- Dependendo do contexto, um mesmo conceito do mundo real pode ser representado por diferentes abstrações.\n",
    "    - Carro: \n",
    "        - Para uma transportadora de cargas;\n",
    "        - Para uma fábrica de automóveis;\n",
    "        - Para um colecionador;\n",
    "        - Para uma empresa de kart;\n",
    "        - Para um mecânico.\n",
    "**Classe X Objeto**\n",
    "- Objetos são abstrações de entidades que existem no mundo real.\n",
    "- Classes são definições estáticas, que possibilitam o entendimento de um grupo de objetos.\n",
    "**Mensagem**\n",
    "- Para que um objeto realize alguma tarefa, deve haver um estímulo enviado a este objeto.\n",
    "- Este objeto é uma entidade ativa que representa uma abstração de algo do mundo real.\n",
    "    - Tal objeto pode responder a estimulos a ele enviados.\n",
    "    - Assim como faz sentido dizer que seres vivos reagem a estímulos que eles recebem. \n",
    "- Independentemente da origem do estímulo, quando ele ocorre, diz-se que o objeto em questão está recebendo uma mensagem.\n",
    "- Uma mensagem é uma requisição enviada de um objeto a outroa para que este último realize alguma operação. \n",
    "- Objetos de um sistema trocam mensagens.\n",
    "    - Os objetos estão enviando mensagens uns aos outros com o objetivo de realizar alguma tarefa dentro do sistema no qual eles estão inseridos.\n",
    "    \n",
    "**Encapsulamento**\n",
    "- Objetos possuem comportamento.\n",
    "- O termo comportamento diz respito a que operações são realizadas por um objeto e também de que modo estas operações são executadas.\n",
    "- De acordo com o encapsulamento, objetos devem \"esconder\" a sua complexidade.\n",
    "- Aumenta a qualidade em termos de:\n",
    "    - Legibilidade;\n",
    "    - Clareza;\n",
    "    - Reuso.\n",
    "- É uma forma de restringir o acesso ao comportamento interno de um objeto.\n",
    "    - Um objeto que precise da colaboração de outro para realizar alguma tarefa simplesmente envia uma mensagem a este último.\n",
    "    - O método (maneira de fazer) que o objeto requisitado usa para realizar a tarefa não é conhecido dos objetos requisitantes.\n",
    "    \n",
    "**Polimorfismo**\n",
    "- Habilidade de objetos de classes diferentes responderem a mesma mensagem de diferentes maneiras.\n",
    "- Diretamente associado com **herança**.\n",
    "- Trabalha com a redeclaração de métodos previamente herdados por uma classe, onde estes métodos são implementados de forma diferente para cada classe de acordo com a sua necessidade.\n",
    "- Classes derivadas de uma mesma superclasse podem invocar métodos que têm a mesma identificação mas comportamentos distintos, usando para tanto uma referência a um objeto do tipo da superclasse. \n",
    "\n",
    "**Generalização (Herança)**\n",
    "\n",
    "- A herança pode ser vista como um nível de abstração acima da encontrada entre classes e objetos.\n",
    "- Na herança, classes semelhantes são agrupadas em hieraquias\n",
    "    - Cada nível de uma hierarquia pode ser visto como um nível de abstração.\n",
    "    - Cada classe de um nível de hierarquia herda as características das classes nos níveis acima.\n",
    "- A herança facilita o compartilhamento de comportamento entre classes semelhantes.\n",
    "- As diferenças ou variações de uma classe em particular podem ser organizadas de forma mais clara.\n",
    "![heranca](https://i.ibb.co/92W4KHJ/image.png)\n"
   ]
  },
  {
   "cell_type": "markdown",
   "metadata": {},
   "source": [
    "**Atributo**\n",
    "- Um dos itens de dados nomeados que compõem uma instância.\n",
    "**Classe**\n",
    "- Tipo de composto definido pelo usuáruio.\n",
    "- Um modelo para os objetos que são exemplos dela.\n",
    "**Construtor**\n",
    "- Cada classe tem uma \"fábrica\", chamada pelo mesmo nome que a classe.\n",
    "- Se a classe tem um método de inicialização, este método é usado para obter os atributos (estado) do novo objeto.\n",
    "**Instância**\n",
    "- Um objeto cujo tipo é de alguma classe. \n",
    "- Instância e objeto são usados alternadamente.\n",
    "**Método**\n",
    "- Uma função que é definida dentro de uma definição de classe e é chamado em instâncias dessa classe.\n",
    "**Objeto**\n",
    "- Um tipo de dados composto que é muitas vezes usado para modelar uma coisa ou conceito no mundo real.\n",
    "- Ele agrupa os dados e as operações que sejam relevantes para esse tipo de dados.\n",
    "- Instância e objeto são usados alternadamente. \n"
   ]
  },
  {
   "cell_type": "markdown",
   "metadata": {},
   "source": [
    "**Classes**\n",
    "- Sintaxe\n",
    "\n",
    "class nome_classe:\n",
    "\n",
    "    <atributos>\n",
    "    \n",
    "    <métodos>"
   ]
  },
  {
   "cell_type": "code",
   "execution_count": 1,
   "metadata": {},
   "outputs": [
    {
     "name": "stdout",
     "output_type": "stream",
     "text": [
      "Um atributo de classe\n"
     ]
    }
   ],
   "source": [
    "class A:\n",
    "    a = \"Um atributo de classe\"\n",
    "    \n",
    "x = A()\n",
    "print(x.a)\n",
    "    "
   ]
  },
  {
   "cell_type": "markdown",
   "metadata": {},
   "source": [
    "**self**\n",
    "- Todo método criado deve ter como parâmetro.\n",
    "- É a referência para a própria instância da classe"
   ]
  },
  {
   "cell_type": "code",
   "execution_count": 8,
   "metadata": {},
   "outputs": [
    {
     "name": "stdout",
     "output_type": "stream",
     "text": [
      "O saldo de José é 34 reais\n"
     ]
    }
   ],
   "source": [
    "class saldo:\n",
    "    #Atribudos da classe\n",
    "    nome = \"\"\n",
    "    saldo = 0\n",
    "    \n",
    "    #metodo da classe\n",
    "    def mostrasaldo(self):\n",
    "        #Método\n",
    "        print(\"O saldo de %s é %i reais\"%(self.nome, self.saldo))\n",
    "        \n",
    "\n",
    "s = saldo()\n",
    "s.nome = \"José\"\n",
    "s.saldo = 34\n",
    "s.mostrasaldo()"
   ]
  },
  {
   "cell_type": "markdown",
   "metadata": {},
   "source": [
    "**Métodos Construtores**\n",
    "\n",
    "- Método init é um método construtor:\n",
    "    - Prepara a utilização do objeto: validação, ordem;\n",
    "    - Inicializa o estado de um objeto\n",
    "    - É invocado a cada nova instância de uma classe é criada.\n",
    "    - Ex.: Atribui um valor inicial aos atributos\n",
    "    - Método construtor executado assim que a instancia da classe é criada.\n",
    "    "
   ]
  },
  {
   "cell_type": "code",
   "execution_count": 11,
   "metadata": {},
   "outputs": [
    {
     "name": "stdout",
     "output_type": "stream",
     "text": [
      "O saldo de Carlos Silva é 39 reais\n"
     ]
    }
   ],
   "source": [
    "class saldo:\n",
    "    #atributos da classe\n",
    "    nome = \"\"\n",
    "    saldo = 0\n",
    "    \n",
    "    #Metodo constutor:\n",
    "    def __init__(self,nome,saldo):\n",
    "        \n",
    "        self.nome = nome\n",
    "        self.saldo = saldo\n",
    "        \n",
    "    #Metodo da classe\n",
    "    def mostrasaldo(self):\n",
    "        print(\"O saldo de %s é %i reais\" % (self.nome, self.saldo))\n",
    "\n",
    "\n",
    "s = saldo(\"Carlos Silva\", 39)\n",
    "s.mostrasaldo()"
   ]
  },
  {
   "cell_type": "code",
   "execution_count": 12,
   "metadata": {},
   "outputs": [
    {
     "data": {
      "text/plain": [
       "12.0"
      ]
     },
     "execution_count": 12,
     "metadata": {},
     "output_type": "execute_result"
    }
   ],
   "source": [
    "import math\n",
    "class Raiz():\n",
    "    def __init__(self,x=0):\n",
    "        self.x=x\n",
    "    def calculoraiz(self):\n",
    "        return (math.sqrt(self.x))\n",
    "r = Raiz(144)\n",
    "r.calculoraiz()"
   ]
  },
  {
   "cell_type": "code",
   "execution_count": 13,
   "metadata": {},
   "outputs": [
    {
     "name": "stdout",
     "output_type": "stream",
     "text": [
      "3 4\n",
      "5.0\n",
      "1.875\n"
     ]
    }
   ],
   "source": [
    "class Point:\n",
    "    def __init__(self,x=0,y=0):\n",
    "        #Criando um novo ponto em x,y\n",
    "        self.x = x\n",
    "        self.y = y\n",
    "        \n",
    "    def distance_from_origin(self):\n",
    "        #Calcula a distancia de (0,0) até (x,y)\n",
    "        return ((self.x**2)+(self.y**2))**0.5\n",
    "    def midpoint(self):\n",
    "        #Retorna o ponto médio entre p1 e p2\n",
    "        return (self.x*5)/(self.y*2)\n",
    "    \n",
    "p = Point(3,4)\n",
    "print(p.x,p.y)\n",
    "print(p.distance_from_origin())\n",
    "print(p.midpoint())"
   ]
  },
  {
   "cell_type": "code",
   "execution_count": 14,
   "metadata": {},
   "outputs": [
    {
     "name": "stdout",
     "output_type": "stream",
     "text": [
      "[1, 2, 3, 4, 5, 6]\n",
      "set()\n"
     ]
    }
   ],
   "source": [
    "class argumentoLista:\n",
    "    #Passando uma lista como argumento de uma função\n",
    "    listax = []\n",
    "    listay = []\n",
    "    def unelistas(self):\n",
    "        return self.listax + self.listay\n",
    "    def listaintersec(self):\n",
    "        inters = self.listax\n",
    "        return set(inters).intersection(self.listay)\n",
    "    \n",
    "mn = argumentoLista()\n",
    "mn.listax = [1,2,3]\n",
    "mn.listay = [4,5,6]\n",
    "\n",
    "print(mn.unelistas())\n",
    "print(mn.listaintersec())"
   ]
  },
  {
   "cell_type": "markdown",
   "metadata": {},
   "source": [
    "**Herança**\n",
    "- Mecânismo de reaproveitamento de código.\n",
    "- Recursos e caracteristicas comuns podem ser compartilhados entre classes\n",
    "- A classe derivada herda as propriedades da classe base.\n"
   ]
  },
  {
   "cell_type": "code",
   "execution_count": 17,
   "metadata": {},
   "outputs": [],
   "source": [
    "#Pessoa.py\n",
    "class Pessoa:\n",
    "    nome = \"\"\n",
    "    endereco = \"\"\n",
    "    renda = 0.0\n",
    "    def __init__(self, nome, endereco, renda):\n",
    "        self.nome = nome\n",
    "        self.endereco = endereco\n",
    "        self.renda = renda\n",
    "    def exibe(self):\n",
    "        print(\"Nome: \",self.nome)\n",
    "        print(\"Endereço: \",self.endereco)\n",
    "        print(\"Renda: \",self.renda)"
   ]
  },
  {
   "cell_type": "code",
   "execution_count": 21,
   "metadata": {},
   "outputs": [
    {
     "name": "stdout",
     "output_type": "stream",
     "text": [
      "CPF:  9999\n",
      "Nome:  Juliana Clara\n",
      "Endereço:  Rua do Rio 234\n",
      "Renda:  50.000.00\n",
      "RG:  1234567\n"
     ]
    }
   ],
   "source": [
    "#PessoaFisica.py\n",
    "\n",
    "#from Pessoa import *   #Funciona em arquivos separados, no jupyter notebook não precisa\n",
    "class PessoaFisica(Pessoa):\n",
    "    cpf = 0\n",
    "    rg = 0\n",
    "    def __init__(self, nome, endereco, renda, cpf, rg):\n",
    "        self.cpf = cpf\n",
    "        self.rg = rg\n",
    "        Pessoa.__init__(self, nome, endereco, renda)\n",
    "    def exibe(self):\n",
    "        print(\"CPF: \", self.cpf)\n",
    "        Pessoa.exibe(self)\n",
    "        print(\"RG: \",self.rg)\n",
    "        \n",
    "f = PessoaFisica(\"Juliana Clara\", \"Rua do Rio 234\", \"50.000.00\", 9999,1234567)\n",
    "f.exibe()"
   ]
  },
  {
   "cell_type": "markdown",
   "metadata": {},
   "source": [
    "### Herança Multipla\n",
    "- A classe derivada herda as propriedades das classes base definidasa. "
   ]
  },
  {
   "cell_type": "code",
   "execution_count": 8,
   "metadata": {},
   "outputs": [],
   "source": [
    "class Robot():\n",
    "    carga = 0\n",
    "    \n",
    "    def __init__(self, carga):\n",
    "        self.carga = carga\n",
    "        \n",
    "class TransportadorTerrestre(Robot):\n",
    "    largura = 4\n",
    "    altura = 0\n",
    "    \n",
    "    def __init__(self, carga=50,altura=70):\n",
    "        #inicializa o objeto\n",
    "        self.altura = altura\n",
    "        Robot.__init__(self,carga)\n",
    "        \n",
    "class TransportadorAreo(Robot):\n",
    "    autonomia = 0\n",
    "    \n",
    "    def __init__(self, carga = 20, autonomia = 20):\n",
    "        #inicializa o objeto\n",
    "        self.autonomia = autonomia\n",
    "        Robot.__init__(self, carga)\n",
    "        \n",
    "class Transportehibrido(TransportadorTerrestre,TransportadorAreo):\n",
    "    carga_terra = 0\n",
    "    carga_ar = 0\n",
    "    \n",
    "    def __init__(self, carga_terra=35, carga_ar=40, altura=6, autonomia=2):\n",
    "        self.carga_terra = carga_terra\n",
    "        self.carga_ar = carga_ar\n",
    "        #É necessario chamar o init de cada classe pai\n",
    "        TransportadorTerrestre.__init__(self, carga = carga_terra, altura = altura)\n",
    "        TransportadorAreo.__init__(self, carga = carga_ar, autonomia = autonomia)\n",
    "        "
   ]
  },
  {
   "cell_type": "code",
   "execution_count": 10,
   "metadata": {},
   "outputs": [
    {
     "name": "stdout",
     "output_type": "stream",
     "text": [
      "altura = 6\n",
      "autonomia = 2\n",
      "carga = 40\n",
      "carga_ar = 40\n",
      "carga_terra = 35\n",
      "largura = 4\n",
      "Altura = 6\n"
     ]
    }
   ],
   "source": [
    "transporte = Transportehibrido()\n",
    "for atr in dir(transporte): \n",
    "    if not atr.startswith('__'): #se não for um método especial\n",
    "        print(atr,'=',getattr(transporte,atr))\n",
    "        \n",
    "print(\"Altura\",'=',transporte.altura)"
   ]
  },
  {
   "cell_type": "markdown",
   "metadata": {},
   "source": [
    "- **getattr():** Retorna um valor do atributo nomeado de um objeto. Se não for encontrado, ele retornará o valor padrão fornecido para a função."
   ]
  },
  {
   "cell_type": "code",
   "execution_count": 14,
   "metadata": {},
   "outputs": [
    {
     "name": "stdout",
     "output_type": "stream",
     "text": [
      "A idade de Igor é: 23\n",
      "A idade de Igor é: 23\n"
     ]
    }
   ],
   "source": [
    "#Exemplo getattr()\n",
    "class Pessoa:\n",
    "    idade = 23\n",
    "    nome = \"Igor\"\n",
    "    \n",
    "pessoa = Pessoa()\n",
    "print('A idade de',getattr(pessoa, \"nome\"), 'é:',getattr(pessoa,\"idade\"))\n",
    "print('A idade de',pessoa.nome, 'é:',pessoa.idade)"
   ]
  },
  {
   "cell_type": "markdown",
   "metadata": {},
   "source": [
    "### Recursos\n",
    "\n",
    "- Instrospecção\n",
    "    - Recurso para examinar objetos:\n",
    "        - Variáveis\n",
    "        - Funções \n",
    "        - Classes\n",
    "        - Módulos\n",
    "    - Analise das classes e objetos:\n",
    "        - typr(dfl) - identifica tipo do objeto\n",
    "        - isinstance(s,float) - retorna True ou False de acordo com o tipo de objeto.\n",
    "        - id(objeto) - O identificador do objeto\n",
    "        - locais() - O dicionário de variáveis locais\n",
    "        - globais() - O dicionário de variáveis globais\n",
    "        - dir(objeto) - A lista estruturas do objeto\n",
    "        - help(objeto) - Doc Strings do objeto\n",
    "        - repr(objeto) - Representação do objeto\n",
    "        - issubclass(subclasse, classe) - V ou F se herda classe. \n",
    "    - Módulo inspect:\n",
    "        - Fornece várias funções para obter informações sobre objetos criados, como módulos, classes, métodos, funções.\n",
    "        - inspect.isclass(s) - Retorna T ou F se objeto for do tipo classe\n",
    "        - inspect.getdoc(dfl) - Retorna documentação do objeto\n",
    "        - inspect.ismethod(object) - Retorna T ou F se objeto for do tipo método\n",
    "        - inspect.isfunction(object) - Retorna T ou F se objeto for do tipo função"
   ]
  },
  {
   "cell_type": "code",
   "execution_count": 15,
   "metadata": {},
   "outputs": [
    {
     "name": "stdout",
     "output_type": "stream",
     "text": [
      "12.0\n",
      "Tipo: <class 'type'>\n",
      "Identificador: 94427281253688\n",
      "Help on class Raiz in module __main__:\n",
      "\n",
      "class Raiz(builtins.object)\n",
      " |  Raiz(x=0)\n",
      " |  \n",
      " |  Methods defined here:\n",
      " |  \n",
      " |  __init__(self, x=0)\n",
      " |      Initialize self.  See help(type(self)) for accurate signature.\n",
      " |  \n",
      " |  calculoraiz(self)\n",
      " |  \n",
      " |  ----------------------------------------------------------------------\n",
      " |  Data descriptors defined here:\n",
      " |  \n",
      " |  __dict__\n",
      " |      dictionary for instance variables (if defined)\n",
      " |  \n",
      " |  __weakref__\n",
      " |      list of weak references to the object (if defined)\n",
      "\n",
      "Doc String: None\n",
      "Representação do objeto: <class '__main__.Raiz'>\n",
      "Lista de estruturas: ['__class__', '__delattr__', '__dict__', '__dir__', '__doc__', '__eq__', '__format__', '__ge__', '__getattribute__', '__gt__', '__hash__', '__init__', '__init_subclass__', '__le__', '__lt__', '__module__', '__ne__', '__new__', '__reduce__', '__reduce_ex__', '__repr__', '__setattr__', '__sizeof__', '__str__', '__subclasshook__', '__weakref__', 'calculoraiz']\n"
     ]
    }
   ],
   "source": [
    "#Exemplo instrospecção\n",
    "\n",
    "import math\n",
    "class Raiz():\n",
    "    global x\n",
    "    \n",
    "    def __init__(self, x=0):\n",
    "        self.x=x\n",
    "    def calculoraiz(self):\n",
    "        return (math.sqrt(self.x))\n",
    "    \n",
    "r = Raiz(144)\n",
    "print(r.calculoraiz())\n",
    "print('Tipo:',type(Raiz))\n",
    "print('Identificador:',id(Raiz))\n",
    "print('Doc String:',help(Raiz))\n",
    "print('Representação do objeto:',repr(Raiz))\n",
    "print('Lista de estruturas:',dir(Raiz))"
   ]
  },
  {
   "cell_type": "markdown",
   "metadata": {},
   "source": [
    "### Módulos\n",
    "- São arquivos que podem conter qualquer estrutura do Python como, por exemplo, classes e que através de importação podem ser utiliados por outros programas\n",
    "    - sys, os, time, random, exp, shelve, inspect"
   ]
  },
  {
   "cell_type": "code",
   "execution_count": 16,
   "metadata": {},
   "outputs": [
    {
     "name": "stdout",
     "output_type": "stream",
     "text": [
      "['/home/victor', '/home/victor/anaconda3/envs/py34/lib/python37.zip', '/home/victor/anaconda3/envs/py34/lib/python3.7', '/home/victor/anaconda3/envs/py34/lib/python3.7/lib-dynload', '', '/home/victor/anaconda3/envs/py34/lib/python3.7/site-packages', '/home/victor/anaconda3/envs/py34/lib/python3.7/site-packages/IPython/extensions', '/home/victor/.ipython']\n"
     ]
    }
   ],
   "source": [
    "import sys\n",
    "print(sys.path)"
   ]
  },
  {
   "cell_type": "markdown",
   "metadata": {},
   "source": [
    "- Importação:\n",
    "    - O caractere \"*\" pode ser usado para importar todas as definições do módulo.\n",
    "        - Variavéis;\n",
    "        - Métodos.\n",
    "        \n",
    "        - Ex:\n",
    "            - from Modulo import*\n",
    "            - from Modulo import function\n",
    "            - import Modulo\n",
    "            - import numpy as np"
   ]
  },
  {
   "cell_type": "code",
   "execution_count": 18,
   "metadata": {},
   "outputs": [],
   "source": [
    "#salva em fibo.py\n",
    "def fib(n):\n",
    "    if n==0:\n",
    "        return 0 \n",
    "    elif n == 1:\n",
    "        return 1\n",
    "    else:\n",
    "        return fib(n-1)+fib(n-2)\n",
    "def ifib(n):\n",
    "    a,b=0,1\n",
    "    for i in range(n):\n",
    "        a, b = b, a+b\n",
    "        return a"
   ]
  },
  {
   "cell_type": "code",
   "execution_count": 21,
   "metadata": {},
   "outputs": [
    {
     "name": "stdout",
     "output_type": "stream",
     "text": [
      "13\n"
     ]
    }
   ],
   "source": [
    "import fibo\n",
    "print(fibo.fib(7))"
   ]
  },
  {
   "cell_type": "markdown",
   "metadata": {},
   "source": [
    "- Importação de pacotes:\n",
    "    - Os pacotes são uma forma de estruturar o namespace do módulo Python\n",
    "    - import sound.effects.echo\n",
    "    - import sound.effects import *\n",
    "    \n",
    "### Tratamento de Exceções\n",
    "\n",
    "- As exceções pode ocorrer durante a execução de um programa;\n",
    "- Se não for tratada, será propagada através das chamadas de função até o módulo principal do programa, interrompendo a execução.\n"
   ]
  },
  {
   "cell_type": "code",
   "execution_count": 22,
   "metadata": {},
   "outputs": [
    {
     "name": "stdout",
     "output_type": "stream",
     "text": [
      "Digite um número: d\n",
      "Aviso! Isto não é um número, tente outra vez\n",
      "Digite um número: teste\n",
      "Aviso! Isto não é um número, tente outra vez\n",
      "Digite um número: 3\n"
     ]
    }
   ],
   "source": [
    "while True:\n",
    "    try:\n",
    "        x = int(input(\"Digite um número: \"))\n",
    "        break\n",
    "    except ValueError:\n",
    "        print(\"Aviso! Isto não é um número, tente outra vez\")"
   ]
  },
  {
   "cell_type": "code",
   "execution_count": null,
   "metadata": {},
   "outputs": [],
   "source": []
  }
 ],
 "metadata": {
  "kernelspec": {
   "display_name": "Python 3",
   "language": "python",
   "name": "python3"
  },
  "language_info": {
   "codemirror_mode": {
    "name": "ipython",
    "version": 3
   },
   "file_extension": ".py",
   "mimetype": "text/x-python",
   "name": "python",
   "nbconvert_exporter": "python",
   "pygments_lexer": "ipython3",
   "version": "3.7.3"
  }
 },
 "nbformat": 4,
 "nbformat_minor": 4
}
