{
 "cells": [
  {
   "cell_type": "markdown",
   "metadata": {},
   "source": [
    "# Curso de Python com exemplos"
   ]
  },
  {
   "cell_type": "markdown",
   "metadata": {},
   "source": [
    "## Aula 4"
   ]
  },
  {
   "cell_type": "markdown",
   "metadata": {},
   "source": [
    "### Graphical User Interface (GUI)"
   ]
  },
  {
   "cell_type": "code",
   "execution_count": 1,
   "metadata": {
    "collapsed": false
   },
   "outputs": [
    {
     "name": "stdout",
     "output_type": "stream",
     "text": [
      "65.6168\n"
     ]
    }
   ],
   "source": [
    "def metro_pes(metro,coeficiente=3.28084):\n",
    "    return metro*coeficiente\n",
    "\n",
    "print(metro_pes(20))"
   ]
  },
  {
   "cell_type": "markdown",
   "metadata": {},
   "source": [
    "- Não é user friendly, no caso de enviar este programa para alguém que não saiba programar, a melhor forma é criar uma interface gráfica, de forma que as pessoas não precisem ver o código. \n",
    "\n",
    "- É necessario instalar uma interface gráfica\n",
    "- Se estiver usando o anaconda, digite \"conda install -c anaconda wxpython\"\n",
    "- Se estiver em outra interface, \"pip3 install wxpython\"\n",
    "- Crie um arquivo chamado backend.py e coloque o programa metro_pes()\n",
    "- Crie outro arquivo chamado frontend.py e digite:\n",
    " "
   ]
  },
  {
   "cell_type": "code",
   "execution_count": 2,
   "metadata": {
    "collapsed": false
   },
   "outputs": [
    {
     "name": "stdout",
     "output_type": "stream",
     "text": [
      "32.8084\n"
     ]
    }
   ],
   "source": [
    "#Backend.py\n",
    "def metro_pes(metro,coeficiente=3.28084):\n",
    "    return metro*coeficiente\n",
    "\n",
    "#Frontend.py\n",
    "import backend\n",
    "\n",
    "print(backend.metro_pes(10))"
   ]
  },
  {
   "cell_type": "code",
   "execution_count": null,
   "metadata": {
    "collapsed": true
   },
   "outputs": [],
   "source": [
    "#Frontend.py\n",
    "import backend\n",
    "import wx\n",
    "\n",
    "def press_button(event): #Função para indicar o que fazer ao precionar \n",
    "    #o botão\n",
    "    metros = float(input_box.GetValue()) \n",
    "\n",
    "    result.SetLabel(str(backend.metro_pes(metros)))\n",
    "\n",
    "app = wx.App() # Objeto APP\n",
    "frame = wx.Frame(parent = None, title=\"Metros para pés\") # Objeto frame\n",
    "panel = wx.Panel(frame) # Objeto panel\n",
    "sizer = wx.GridBagSizer() # Objeto sizer\n",
    "\n",
    "# Objetos Widget\n",
    "input_label = wx.StaticText(panel, label = \"Metros: \")\n",
    "input_box = wx.TextCtrl(panel)\n",
    "result_label = wx.StaticText(panel, label = \"Pés: \")\n",
    "result = wx.StaticText(panel, label = \"\")\n",
    "button = wx.Button(panel, label = \"Converter\")\n",
    "button.Bind(wx.EVT_BUTTON, press_button)\n",
    "\n",
    "# Adiciona os objetos widget ao sizer \n",
    "sizer.Add(input_label, (0,0))\n",
    "sizer.Add(input_box, (0,1))\n",
    "sizer.Add(result_label, (1,0))\n",
    "sizer.Add(result, (1,1))\n",
    "sizer.Add(button, (2,2))\n",
    "\n",
    "\n",
    "# Conecta o sizer ao panel e ao frame\n",
    "panel.SetSizerAndFit(sizer)\n",
    "frame.SetSizerAndFit(sizer)\n",
    "frame.Show() #Mostra o frame\n",
    "app.MainLoop() #Mostrando constantemente a interface\n",
    "\n"
   ]
  },
  {
   "cell_type": "markdown",
   "metadata": {},
   "source": [
    "- A interface gráfica deverá ficar mais ou menos assim:\n",
    "![figura](https://i.ibb.co/yVRqBZx/image.png)"
   ]
  },
  {
   "cell_type": "markdown",
   "metadata": {},
   "source": [
    "__Fazendo um programa executavél__\n",
    "\n",
    "- Em caso da pessoa não ter pyhton instalado, é necessário outra forma de executar o programa. \n",
    "\n",
    "- Instalar pyinstaller, \"pip3 install pyinstaller\n",
    "- Feito isso, executar \"pyinstaller --onfile --windowed frontend.py\"\n",
    "- O programa irá gerar um executavel do código criado\n",
    "\n",
    "![fig2](https://i.ibb.co/6FjPVS4/image.png)"
   ]
  }
 ],
 "metadata": {
  "kernelspec": {
   "display_name": "Python 3",
   "language": "python",
   "name": "python3"
  },
  "language_info": {
   "codemirror_mode": {
    "name": "ipython",
    "version": 3
   },
   "file_extension": ".py",
   "mimetype": "text/x-python",
   "name": "python",
   "nbconvert_exporter": "python",
   "pygments_lexer": "ipython3",
   "version": "3.4.5"
  }
 },
 "nbformat": 4,
 "nbformat_minor": 2
}
