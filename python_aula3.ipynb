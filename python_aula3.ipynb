{
 "cells": [
  {
   "cell_type": "markdown",
   "metadata": {},
   "source": [
    "# Curso de Python com exemplos\n",
    "\n"
   ]
  },
  {
   "cell_type": "markdown",
   "metadata": {},
   "source": [
    "## Aula 3\n"
   ]
  },
  {
   "cell_type": "markdown",
   "metadata": {},
   "source": [
    "### Instalar Python com Visual Studio Code\n",
    "\n",
    "#### Windows\n",
    "\n",
    "- Acesse https://www.python.org/\n",
    "- Baixe o instalador e instale no windows\n",
    "- Abra o cmd do windows e digite \"python\", se aparecer \">>>\", significa que o python foi instalado com sucesso\n",
    "- Acesse https://code.visualstudio.com/\n",
    "- Baixe o instalador e instale no windows\n",
    "\n",
    "#### Linux\n",
    "\n",
    "- Abra o terminal e digite \"sudo apt-get install python3\n",
    "- Digite python3, se aparecer \">>>\", significa que python foi instalado com sucesso. \n",
    "- Acesse https://code.visualstudio.com/\n",
    "- Baixe o instalador e instale no linux \n"
   ]
  },
  {
   "cell_type": "markdown",
   "metadata": {},
   "source": [
    "# Loop\n",
    "\n",
    "#### While\n",
    "\n",
    "while condição for verdade:\n",
    "    faça algo"
   ]
  },
  {
   "cell_type": "code",
   "execution_count": 1,
   "metadata": {
    "collapsed": false
   },
   "outputs": [
    {
     "name": "stdout",
     "output_type": "stream",
     "text": [
      "Menor\n",
      "Menor\n",
      "Menor\n"
     ]
    }
   ],
   "source": [
    "x=0\n",
    "while x<3:\n",
    "    print(\"Menor\")\n",
    "    x=x+1\n",
    "    \n",
    "    "
   ]
  },
  {
   "cell_type": "code",
   "execution_count": 2,
   "metadata": {
    "collapsed": false
   },
   "outputs": [
    {
     "name": "stdout",
     "output_type": "stream",
     "text": [
      "Digite senha23\n",
      "Senha errada, digite novamente23\n",
      "Senha errada, digite novamente234\n",
      "Senha errada, digite novamentepython123\n",
      "Logado\n"
     ]
    }
   ],
   "source": [
    "senha_correta=\"python123\"\n",
    "senha=input(\"Digite senha\")\n",
    "\n",
    "while senha_correta!=senha:\n",
    "    senha=input(\"Senha errada, digite novamente\")\n",
    "    \n",
    "print(\"Logado\")"
   ]
  },
  {
   "cell_type": "markdown",
   "metadata": {},
   "source": [
    "### Formatando Strings\n"
   ]
  },
  {
   "cell_type": "code",
   "execution_count": 6,
   "metadata": {
    "collapsed": false
   },
   "outputs": [
    {
     "name": "stdout",
     "output_type": "stream",
     "text": [
      "Digite seu nomeVictor\n",
      "Digite senhapython123\n",
      "Olá Victor você está logado\n"
     ]
    }
   ],
   "source": [
    "senha_correta=\"python123\"\n",
    "name = input(\"Digite seu nome\")\n",
    "senha=input(\"Digite senha\")\n",
    "\n",
    "while senha_correta!=senha:\n",
    "    senha=input(\"Senha errada, digite novamente\")\n",
    "    \n",
    "mensagem = \"Olá %s você está logado\" %name\n",
    "print(mensagem)"
   ]
  },
  {
   "cell_type": "code",
   "execution_count": 7,
   "metadata": {
    "collapsed": false
   },
   "outputs": [
    {
     "name": "stdout",
     "output_type": "stream",
     "text": [
      "Digite seu nomeVictor\n",
      "Digite seu sobrenomeSilva\n",
      "Digite senhapython123\n",
      "Olá Victor Silva você está logado\n"
     ]
    }
   ],
   "source": [
    "senha_correta=\"python123\"\n",
    "name = input(\"Digite seu nome\")\n",
    "sobrenome = input(\"Digite seu sobrenome\")\n",
    "senha=input(\"Digite senha\")\n",
    "\n",
    "while senha_correta!=senha:\n",
    "    senha=input(\"Senha errada, digite novamente\")\n",
    "    \n",
    "mensagem = \"Olá %s %s você está logado\" %(name,sobrenome)\n",
    "print(mensagem)"
   ]
  },
  {
   "cell_type": "markdown",
   "metadata": {},
   "source": [
    "### Modulos e Bibiliotecas e Pacotes"
   ]
  },
  {
   "cell_type": "markdown",
   "metadata": {},
   "source": [
    "- Para importar modulos e bibliotecas, se usa o comando import\n"
   ]
  },
  {
   "cell_type": "code",
   "execution_count": 8,
   "metadata": {
    "collapsed": true
   },
   "outputs": [],
   "source": [
    "import os #pode acessar arquivos local do PC"
   ]
  },
  {
   "cell_type": "code",
   "execution_count": 13,
   "metadata": {
    "collapsed": false
   },
   "outputs": [
    {
     "data": {
      "text/plain": [
       "'/home/victor/anaconda3/envs/py34/lib/python3.4/os.py'"
      ]
     },
     "execution_count": 13,
     "metadata": {},
     "output_type": "execute_result"
    }
   ],
   "source": [
    "os.__file__ #Em lib fica todos os modulos e bibliotecas que podem ser importados"
   ]
  },
  {
   "cell_type": "code",
   "execution_count": 12,
   "metadata": {
    "collapsed": true
   },
   "outputs": [],
   "source": [
    "import sqlite3 #banco de dados "
   ]
  },
  {
   "cell_type": "markdown",
   "metadata": {},
   "source": [
    "- Pacotes podem ser baixados, não vem junto com instalador do python\n",
    "- No cmd do windows digite, por exemplo, \"pip install glob2\"\n",
    "- Agora é possivel importar glob2 \"import glob2\"\n",
    "\n"
   ]
  },
  {
   "cell_type": "code",
   "execution_count": 22,
   "metadata": {
    "collapsed": false
   },
   "outputs": [],
   "source": [
    "from datetime import datetime #Auxilia em operações com data e hora\n",
    "delta = datetime.today()-datetime(1900,12,31)"
   ]
  },
  {
   "cell_type": "code",
   "execution_count": 27,
   "metadata": {
    "collapsed": false
   },
   "outputs": [
    {
     "data": {
      "text/plain": [
       "43535"
      ]
     },
     "execution_count": 27,
     "metadata": {},
     "output_type": "execute_result"
    }
   ],
   "source": [
    "delta.days"
   ]
  },
  {
   "cell_type": "code",
   "execution_count": 28,
   "metadata": {
    "collapsed": false
   },
   "outputs": [
    {
     "data": {
      "text/plain": [
       "34296"
      ]
     },
     "execution_count": 28,
     "metadata": {},
     "output_type": "execute_result"
    }
   ],
   "source": [
    "delta.seconds"
   ]
  },
  {
   "cell_type": "code",
   "execution_count": 29,
   "metadata": {
    "collapsed": false
   },
   "outputs": [
    {
     "data": {
      "text/plain": [
       "datetime.datetime(2020, 3, 11, 9, 40, 22, 911196)"
      ]
     },
     "execution_count": 29,
     "metadata": {},
     "output_type": "execute_result"
    }
   ],
   "source": [
    "datetime.now()"
   ]
  },
  {
   "cell_type": "markdown",
   "metadata": {},
   "source": [
    "- É póssivel ver mais exemplos em: https://strftime.org/"
   ]
  },
  {
   "cell_type": "markdown",
   "metadata": {},
   "source": [
    "### Looping com multiplas sequências\n"
   ]
  },
  {
   "cell_type": "code",
   "execution_count": 32,
   "metadata": {
    "collapsed": false
   },
   "outputs": [
    {
     "name": "stdout",
     "output_type": "stream",
     "text": [
      "a eh 1\n",
      "b eh 2\n",
      "c eh 3\n"
     ]
    }
   ],
   "source": [
    "a = ['a','b','c']\n",
    "b = [1, 2, 3]\n",
    "for i, j in zip(a,b):\n",
    "    print(\"%s eh %s\" %(i,j))"
   ]
  },
  {
   "cell_type": "markdown",
   "metadata": {},
   "source": [
    "### Comando with"
   ]
  },
  {
   "cell_type": "code",
   "execution_count": 33,
   "metadata": {
    "collapsed": false
   },
   "outputs": [
    {
     "data": {
      "text/plain": [
       "9"
      ]
     },
     "execution_count": 33,
     "metadata": {},
     "output_type": "execute_result"
    }
   ],
   "source": [
    "myfile=open(\"example.txt\",\"w\") #Cria arquivo example.txt\n",
    "myfile.write(\"Something\") #Escreve \"something\" no arquivo"
   ]
  },
  {
   "cell_type": "code",
   "execution_count": 34,
   "metadata": {
    "collapsed": true
   },
   "outputs": [],
   "source": [
    "myfile.close() #Fecha o arquivo"
   ]
  },
  {
   "cell_type": "code",
   "execution_count": 35,
   "metadata": {
    "collapsed": true
   },
   "outputs": [],
   "source": [
    "#Faz a mesma coisa que o anterior \n",
    "with open(\"example.txt\",\"w\") as myfile: \n",
    "    myfile.write(\"Something\")\n",
    "    #Neste exemplo não precisa fechar o arquivo\n",
    "    #Tem menos código, código mais otimizado "
   ]
  },
  {
   "cell_type": "code",
   "execution_count": 49,
   "metadata": {
    "collapsed": true
   },
   "outputs": [],
   "source": [
    "temperatures = [10,-20,-289,100]\n",
    "def writer(temperatures, filepath):\n",
    "    with open(filepath, 'w') as file:\n",
    "        for c in temperatures:\n",
    "            if c > -273.15:\n",
    "                f = c* 9/5 + 32\n",
    "                file.write(str(f) + \"\\n\")\n",
    "writer(temperatures, \"temps.txt\") \n",
    "#Here we're calling the function, otherwise no output will be generated"
   ]
  },
  {
   "cell_type": "code",
   "execution_count": 52,
   "metadata": {
    "collapsed": false
   },
   "outputs": [],
   "source": [
    "import glob2\n",
    "from datetime import datetime\n",
    " \n",
    "filenames = glob2.glob(\"*.txt\")\n",
    "with open(datetime.now().strftime(\"%Y-%m-%d-%H-%M-%S-%f\")+\".txt\", 'w') as file:\n",
    "    for filename in filenames:\n",
    "        with open(filename, \"r\") as f:\n",
    "            file.write(f.read() + \"\\n\")"
   ]
  },
  {
   "cell_type": "markdown",
   "metadata": {},
   "source": [
    "### Classes e Objetos \n",
    "\n",
    "- Em Pyhton tudo é um objeto. Objetos são instâncias de classes. Ex.: Ao criar uma variável com uma string, você está criando um objeto do tipo string.\n",
    "\n",
    "- Objetos possuem **atributos** (características) e **métodos** (ações que podem ser aplicadas).\n",
    "\n",
    "- Em python funciona assim:\n",
    "    - objeto.atributo\n",
    "    - objeto.método()\n",
    "\n",
    "- Ao preparar um bolo, seguimos uma receita que define os ingredientes e modo de preparação. A nossa conta é um objeto contreto assim como o bolo que também precisa de uma receita pré-definida. E a \"receita\" no mundo Orientação a Objeto recebe o nome de classe. Antes de criarmos um objeto definiremos uma classe. \n",
    "\n",
    "- Outra analogia é entre um projeto de uma casa e a casa em si. O projeto é a classe, e a casa construída é o objeto. O projeto da conta é a classe, e o que podemos construir (instanciar) a partir dessa classe, damos o nome de objetos. "
   ]
  },
  {
   "cell_type": "code",
   "execution_count": 53,
   "metadata": {
    "collapsed": false
   },
   "outputs": [
    {
     "data": {
      "text/plain": [
       "['__add__',\n",
       " '__class__',\n",
       " '__contains__',\n",
       " '__delattr__',\n",
       " '__dir__',\n",
       " '__doc__',\n",
       " '__eq__',\n",
       " '__format__',\n",
       " '__ge__',\n",
       " '__getattribute__',\n",
       " '__getitem__',\n",
       " '__getnewargs__',\n",
       " '__gt__',\n",
       " '__hash__',\n",
       " '__init__',\n",
       " '__iter__',\n",
       " '__le__',\n",
       " '__len__',\n",
       " '__lt__',\n",
       " '__mod__',\n",
       " '__mul__',\n",
       " '__ne__',\n",
       " '__new__',\n",
       " '__reduce__',\n",
       " '__reduce_ex__',\n",
       " '__repr__',\n",
       " '__rmod__',\n",
       " '__rmul__',\n",
       " '__setattr__',\n",
       " '__sizeof__',\n",
       " '__str__',\n",
       " '__subclasshook__',\n",
       " 'capitalize',\n",
       " 'casefold',\n",
       " 'center',\n",
       " 'count',\n",
       " 'encode',\n",
       " 'endswith',\n",
       " 'expandtabs',\n",
       " 'find',\n",
       " 'format',\n",
       " 'format_map',\n",
       " 'index',\n",
       " 'isalnum',\n",
       " 'isalpha',\n",
       " 'isdecimal',\n",
       " 'isdigit',\n",
       " 'isidentifier',\n",
       " 'islower',\n",
       " 'isnumeric',\n",
       " 'isprintable',\n",
       " 'isspace',\n",
       " 'istitle',\n",
       " 'isupper',\n",
       " 'join',\n",
       " 'ljust',\n",
       " 'lower',\n",
       " 'lstrip',\n",
       " 'maketrans',\n",
       " 'partition',\n",
       " 'replace',\n",
       " 'rfind',\n",
       " 'rindex',\n",
       " 'rjust',\n",
       " 'rpartition',\n",
       " 'rsplit',\n",
       " 'rstrip',\n",
       " 'split',\n",
       " 'splitlines',\n",
       " 'startswith',\n",
       " 'strip',\n",
       " 'swapcase',\n",
       " 'title',\n",
       " 'translate',\n",
       " 'upper',\n",
       " 'zfill']"
      ]
     },
     "execution_count": 53,
     "metadata": {},
     "output_type": "execute_result"
    }
   ],
   "source": [
    "dir(\"Welcome\")"
   ]
  },
  {
   "cell_type": "markdown",
   "metadata": {},
   "source": [
    "- Podemos ver que a string \"welcome\" possui vários métodos, isso faz dele um objeto. "
   ]
  },
  {
   "cell_type": "code",
   "execution_count": 57,
   "metadata": {
    "collapsed": false
   },
   "outputs": [],
   "source": [
    "a = 2 #int é objeto\n",
    "b = 3 #int é objeto\n",
    "c = 4.52 #float é objeto\n",
    "greeting = \"Welcome\" #str é objeto\n",
    "file = open(\"sample.txt\") #file é objeto"
   ]
  },
  {
   "cell_type": "markdown",
   "metadata": {},
   "source": [
    "#### Objetos\n",
    "\n",
    "- Em python todo valor é um objeto. Programas manipulam esses objetos realizando computações diretamente com eles ou chamando os seus métodos. \n",
    "\n",
    "#### Classes\n",
    "\n",
    "- str, int, float, turtle, todos esses são classes definidos pelo Python. Mas muitas vezes precisamos criar nossaas proprias classes para resolver problemas. \n",
    "\n",
    "__Exemplo__\n",
    "- Um ponto é representaod por duas coordenadas que são tratadas em conjunto como um único objeto. Os pontos são muitas vezes escritos em parênteses com uma vírgula separando as coordenadas. Por exemplo, (0,0) representa a origem, (x,y) representa o ponto x unidades para a direita e y unidades para cima. (x,y) é o estado do ponto. \n",
    "- Algumas operações típicas que se associa com pontos poderiam ser a de pedir o ponto pela sua coordenada x, getX, ou para pedir a sua coordenada y, getY. Também é possivel calcular a distância de um ponto a partir da origem, ou a partir de outro ponto, ou encontrar um ponto médio de dois pontos. \n",
    "- Vamos definir uma classe chamada point, e queremos que nossos pontos tenham um atributo x e um y. "
   ]
  },
  {
   "cell_type": "code",
   "execution_count": 58,
   "metadata": {
    "collapsed": true
   },
   "outputs": [],
   "source": [
    "class Point:\n",
    "    #Classe point representa e manipula as coordenadas x,y\n",
    "    \n",
    "    def __init(self):\n",
    "        #Cria um novo ponto na origem\n",
    "        self.x = 0\n",
    "        self.y = 0"
   ]
  },
  {
   "cell_type": "markdown",
   "metadata": {},
   "source": [
    "- Toda classe deve ter um método com o nome especial --init--. Esse método de inicialização, muitas vezes referido como o __construtor__, é chamado automaticamente sempre que uma nova instância de Point é criada. "
   ]
  },
  {
   "cell_type": "code",
   "execution_count": 59,
   "metadata": {
    "collapsed": false
   },
   "outputs": [
    {
     "name": "stdout",
     "output_type": "stream",
     "text": [
      "Nada aconteceu com os pontos\n"
     ]
    }
   ],
   "source": [
    "class Point:\n",
    "    #Classe point representa e manipula as coordenadas x,y\n",
    "    \n",
    "    def __init(self):\n",
    "        #Cria um novo ponto na origem\n",
    "        self.x = 0\n",
    "        self.y = 0\n",
    "        \n",
    "p = Point() #Instancia um objeto do tipo Point\n",
    "q = Point() #Instancia outro objeto do tipo Point \n",
    "\n",
    "print(\"Nada aconteceu com os pontos\")"
   ]
  },
  {
   "cell_type": "markdown",
   "metadata": {},
   "source": [
    "- Durante a inicialização dos objetos, criamos dois atributos chamados x e y para cada um, ambos com o valor 0. "
   ]
  },
  {
   "cell_type": "code",
   "execution_count": 63,
   "metadata": {
    "collapsed": false
   },
   "outputs": [
    {
     "name": "stdout",
     "output_type": "stream",
     "text": [
      "<__main__.Point object at 0x7f04902c0400>\n",
      "<__main__.Point object at 0x7f04902c0390>\n",
      "False\n"
     ]
    }
   ],
   "source": [
    "print(p)\n",
    "print(q)\n",
    "print(p is q)"
   ]
  },
  {
   "cell_type": "code",
   "execution_count": 64,
   "metadata": {
    "collapsed": true
   },
   "outputs": [],
   "source": [
    "from turtle import Turtle\n",
    "\n",
    "tess = Turtle() #Instancia objeto do tipo Turtle\n",
    "alex = Turtle()"
   ]
  },
  {
   "cell_type": "markdown",
   "metadata": {},
   "source": [
    "- As variaveis p e q recebem referências a dois novos objetos Point. Uma função como Turtle ou Point que cria uma nova instância do onbjeto é chamado de __contrutor__, e cada classe fornesse automaticamente uma função construtora que tem o mesmo nome da classe. \n",
    "\n",
    "- Classe é uma fábrica que faz objetos. Cada vez que você chama um construtor, você está pedindo à fábrica para lhe fazer um novo objeto. À medida que o objeto sai da linha de produção, o seu método de inicialização é executado para inicializá-lo com a configuração padrão de fábrica. \n",
    "\n",
    "- O processo combinado de \"crie um novo objeto\" e \"inicialize com a configuração padrão de fábrica\" é chamada __instanciação__."
   ]
  },
  {
   "cell_type": "code",
   "execution_count": 67,
   "metadata": {
    "collapsed": true
   },
   "outputs": [],
   "source": [
    "#Melhorando o construtor\n",
    "\n",
    "class Point:\n",
    "    \"\"\" Point class for representing and manipulating x,y coordinates. \"\"\"\n",
    "\n",
    "    def __init__(self, initX, initY):\n",
    "\n",
    "        self.x = initX\n",
    "        self.y = initY\n",
    "\n",
    "p = Point(7,6) #Cria um ponto na posição (7,6)\n",
    "\n",
    "#Agora quando nós criamos novos pontos, podemos simplesmente fornecer \n",
    "#os valores de x e y como argumentos. Quando o ponto é criado, os\n",
    "#valores de initX e initY são atribuidos ao estado do objeto.\n"
   ]
  },
  {
   "cell_type": "markdown",
   "metadata": {},
   "source": [
    "- A principal vantagem de usar classe é que podemos acrescentar métodos para a classe Point que são operações úteis para trabalhar com pontos. \n",
    "\n",
    "- Um __método__ se comporta como uma função, mas ele é chamado de instância específica. \n",
    "\n",
    "- Vamos adicionar dois métodos simples para permitir um ponto de nos dar informações sobre o seu estado. \n",
    "    - getX retorna o valor da coordenada x.\n",
    "    - getY retorna o valor da coordenada y. \n",
    "    - disntaceFromOrigin retorna a distância do ponto fornecido da origem"
   ]
  },
  {
   "cell_type": "code",
   "execution_count": 69,
   "metadata": {
    "collapsed": false
   },
   "outputs": [
    {
     "name": "stdout",
     "output_type": "stream",
     "text": [
      "7\n",
      "6\n",
      "9.219544457292887\n"
     ]
    }
   ],
   "source": [
    "class Point:\n",
    "    \"\"\" Point class for representing and manipulating x,y coordinates. \"\"\"\n",
    "\n",
    "    def __init__(self, initX, initY):\n",
    "\n",
    "        self.x = initX\n",
    "        self.y = initY\n",
    "\n",
    "    def getX(self):\n",
    "        return self.x\n",
    "\n",
    "    def getY(self):\n",
    "        return self.y\n",
    "    \n",
    "    def distanceFromOrigin(self):\n",
    "        return ((self.x ** 2) + (self.y ** 2)) ** 0.5\n",
    "\n",
    "\n",
    "p = Point(7,6)\n",
    "print(p.getX())\n",
    "print(p.getY())\n",
    "print(p.distanceFromOrigin())"
   ]
  },
  {
   "cell_type": "markdown",
   "metadata": {},
   "source": [
    "- Objetos como argumentos e parâmetros"
   ]
  },
  {
   "cell_type": "code",
   "execution_count": 70,
   "metadata": {
    "collapsed": false
   },
   "outputs": [
    {
     "name": "stdout",
     "output_type": "stream",
     "text": [
      "5.0\n"
     ]
    }
   ],
   "source": [
    "import math\n",
    "\n",
    "class Point:\n",
    "    \"\"\" Point class for representing and manipulating x,y coordinates. \"\"\"\n",
    "\n",
    "    def __init__(self, initX, initY):\n",
    "\n",
    "        self.x = initX\n",
    "        self.y = initY\n",
    "\n",
    "    def getX(self):\n",
    "        return self.x\n",
    "\n",
    "    def getY(self):\n",
    "        return self.y\n",
    "\n",
    "    def distanceFromOrigin(self):\n",
    "        return ((self.x ** 2) + (self.y ** 2)) ** 0.5\n",
    "\n",
    "def distance(point1, point2):\n",
    "    xdiff = point2.getX()-point1.getX()\n",
    "    ydiff = point2.getY()-point1.getY()\n",
    "\n",
    "    dist = math.sqrt(xdiff**2 + ydiff**2)\n",
    "    return dist\n",
    "#Recebe dois pontos e retorna a distância entre eles. \n",
    "#distance não é um método da classe point.\n",
    "\n",
    "p = Point(4,3)\n",
    "q = Point(0,0)\n",
    "print(distance(p,q))"
   ]
  },
  {
   "cell_type": "markdown",
   "metadata": {},
   "source": [
    "#### Resumo\n",
    "\n",
    "__Atributo__ \n",
    "\n",
    "- Um dos itens nomeados de dados que compõem uma instância.\n",
    "\n",
    "__Classe__\n",
    "\n",
    "- Um tipo de composto definido pelo usuário. Uma classe também pode ser pensada como um modelo para os objetos que são instâncias da mesma. (O iPhone é uma classe. Até dezembro de 2010, as estimativas são de que 50 milhões de instâncias tinham sido vendidas!)\n",
    "\n",
    "__Construtor__\n",
    "\n",
    "- Cada classe tem uma “fábrica”, chamada pelo mesmo nome da classe, por fazer novas instâncias. Se a classe tem um método de inicialização, este método é usado para obter os atributos (ou seja, o estado) do novo objeto adequadamente configurado.\n",
    "\n",
    "__Instância__\n",
    "\n",
    "- Um objeto cujo tipo é de alguma classe. Instância e objeto são usados como sinônimos.\n",
    "\n",
    "__Instanciar__\n",
    "\n",
    "- Significa criar uma instância de uma classe e executar o seu método de inicialização.\n",
    "\n",
    "__Linguagem orientada a objetos__\n",
    "\n",
    "- Uma linguagem que fornece recursos, como as classes definidas pelo usuário e herança, que facilitam a programação orientada a objetos.\n",
    "\n",
    "__Método__\n",
    "\n",
    " - Uma função que é definida dentro de uma definição de classe e é chamado em instâncias dessa classe.\n",
    "\n",
    "__Método de inicialização__\n",
    "\n",
    "- Um método especial em Python (chamado __init__) que é chamado automaticamente para configurar um objeto recém-criado no seu estado inicial (padrão de fábrica).\n",
    "\n",
    "__Objeto__\n",
    "\n",
    " - Um tipo de dados composto que é frequentemente usado para modelar uma coisa ou conceito do mundo real. Ele agrupa os dados e as operações que são relevantes para esse tipo de dados. Instância e objeto são usados como sinônimos.\n",
    "\n",
    "__Programação orientada a objetos__\n",
    "\n",
    " - Um estilo poderoso de programação em que os dados e as operações que os manipulam são organizados em classes e métodos."
   ]
  }
 ],
 "metadata": {
  "kernelspec": {
   "display_name": "Python 3",
   "language": "python",
   "name": "python3"
  },
  "language_info": {
   "codemirror_mode": {
    "name": "ipython",
    "version": 3
   },
   "file_extension": ".py",
   "mimetype": "text/x-python",
   "name": "python",
   "nbconvert_exporter": "python",
   "pygments_lexer": "ipython3",
   "version": "3.4.5"
  }
 },
 "nbformat": 4,
 "nbformat_minor": 2
}
