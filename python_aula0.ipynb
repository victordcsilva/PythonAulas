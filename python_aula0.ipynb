{
 "cells": [
  {
   "cell_type": "markdown",
   "metadata": {},
   "source": [
    "### Print\n",
    "\n",
    "- O primeiro passo é saber como exibir uma mensagem na tela.\n",
    "- Para isso é usado o comando print"
   ]
  },
  {
   "cell_type": "code",
   "execution_count": 1,
   "metadata": {
    "collapsed": false
   },
   "outputs": [
    {
     "name": "stdout",
     "output_type": "stream",
     "text": [
      "Ola mundo!\n"
     ]
    }
   ],
   "source": [
    "print(\"Ola mundo!\")"
   ]
  },
  {
   "cell_type": "markdown",
   "metadata": {},
   "source": [
    "### Comentários\n",
    "- Também é possivel comentar algo no programa.\n",
    "- Auxiliar na execução e organização do programa.\n",
    "- Para fazer um comentário, comece com o simbolo # ou \"\"\"  \"\"\", o que tiver entre as 3 aspas será comentario."
   ]
  },
  {
   "cell_type": "code",
   "execution_count": 5,
   "metadata": {
    "collapsed": false
   },
   "outputs": [
    {
     "name": "stdout",
     "output_type": "stream",
     "text": [
      "Olá mundo!\n"
     ]
    }
   ],
   "source": [
    "#Isto é um comentário\n",
    "\"\"\"Caso o seu python não reconheça os acentos, coloque o \n",
    "comando abaixo\"\"\"\n",
    "#-*- coding: utf-8 -*- \n",
    "\n",
    "print(\"Olá mundo!\")"
   ]
  },
  {
   "cell_type": "markdown",
   "metadata": {},
   "source": [
    "### Operações Matemáticas\n",
    "- No pyhton é possível realizar operações matemáticas\n",
    "- soma(+), subtração(-), multiplicação(*), divisão(/), resto de divisão(%), exponenciação (***)"
   ]
  },
  {
   "cell_type": "code",
   "execution_count": 9,
   "metadata": {
    "collapsed": false
   },
   "outputs": [
    {
     "name": "stdout",
     "output_type": "stream",
     "text": [
      "4\n",
      "0\n",
      "4\n",
      "1.0\n",
      "1\n",
      "8\n"
     ]
    }
   ],
   "source": [
    "print(2+2)\n",
    "print(2-2)\n",
    "print(2*2)\n",
    "print(2/2)\n",
    "print(5%2)\n",
    "print(2**3)"
   ]
  },
  {
   "cell_type": "markdown",
   "metadata": {},
   "source": [
    "### Variáveis e tipos de dados \n",
    "\n",
    "- **Variável** permite o armazenamento da informação na memória.\n",
    "    - Não pode ter espaço ou caractere especial\n",
    "    - É case sensitive, Nome é difirente de nome\n",
    "    - = operador de atribuição\n",
    "    - valor é o tipo da variável\n",
    "    - Nome_da_variavel = valor\n",
    "    \n",
    "- **Tipo de dados** \n",
    "    - Tipo inteiro (int): 43,23, 0, 1,10;\n",
    "    - Tipo flutuante (float): 12.3, 0.5, 3.3333;\n",
    "    - Texto (string): \"Olá mundo\", \"1234\", \"oi\";\n",
    "    - Booleana: True (verdadeiro), False (falso).\n",
    "    - Lista: [1,2,3,4], [\"oi\", \"teste\", \"bom dia\"], [1.4, 87, \"ola\", True]\n",
    "    "
   ]
  },
  {
   "cell_type": "code",
   "execution_count": 30,
   "metadata": {
    "collapsed": false
   },
   "outputs": [
    {
     "name": "stdout",
     "output_type": "stream",
     "text": [
      "Olá mundo\n",
      "1\n",
      "1.1\n",
      "True\n",
      "[1.4, 87, 'Ola', True]\n"
     ]
    }
   ],
   "source": [
    "mensagem = \"Olá mundo\" #variavel str\n",
    "x = 1 #variavel int\n",
    "y = 1.1 #variavel float\n",
    "z = True #variavel booleana\n",
    "w = [1.4, 87, \"Ola\", True]\n",
    "\n",
    "print(mensagem)\n",
    "print(x)\n",
    "print(y)\n",
    "print(z)\n",
    "print(w)"
   ]
  },
  {
   "cell_type": "markdown",
   "metadata": {},
   "source": [
    "### Operadores lógicos e relacionais\n",
    "\n",
    "- Comparar dados, tomar decisões.\n",
    "- **Operadores Relacionais**\n",
    "    - == igual\n",
    "    - != diferente\n",
    "    - $\\gt$ maior\n",
    "    - $\\lt$ menor\n",
    "    - $\\ge$ maior ou igual\n",
    "    - $\\le$ menor ou igual\n",
    "    \n",
    "- **Operadores Lógicos**\n",
    "    - AND, duas condições verdadeiras\n",
    "    - OR, pelo menos uma condição verdadeira\n",
    "    - NOT, inverte o valor"
   ]
  },
  {
   "cell_type": "code",
   "execution_count": 14,
   "metadata": {
    "collapsed": false
   },
   "outputs": [
    {
     "name": "stdout",
     "output_type": "stream",
     "text": [
      "True\n",
      "False\n",
      "False\n",
      "True\n"
     ]
    }
   ],
   "source": [
    "x=2\n",
    "y=2\n",
    "print(x==y)\n",
    "print(x!=y)\n",
    "print(x>y)\n",
    "print(x<=y)"
   ]
  },
  {
   "cell_type": "code",
   "execution_count": 20,
   "metadata": {
    "collapsed": false
   },
   "outputs": [
    {
     "name": "stdout",
     "output_type": "stream",
     "text": [
      "False\n",
      "True\n",
      "False\n",
      "True\n",
      "True\n"
     ]
    }
   ],
   "source": [
    "z=x+y\n",
    "print(x == y and x == z)\n",
    "print(x == y or x == z)\n",
    "print(x == z)\n",
    "print(not x == z)\n",
    "print(x == y or z == x and z == y)"
   ]
  },
  {
   "cell_type": "markdown",
   "metadata": {},
   "source": [
    "### Comandos Condicionais \n",
    "\n",
    "- **IF**\n",
    "    - Executa um bloco se uma determinada condição for atendida.\n",
    "    - Avalia se condição é verdadeira ou falsa.\n",
    "    - if condição:\n",
    "    \n",
    "        execute_linha\n",
    "    - **Indentação** ao clicar na tecla TAB, serão definidos blocos de execução. \n",
    "- **ELSE**\n",
    "    - Caso if não seja atendido\n",
    "    \n",
    "- **ELIF**\n",
    "    - Para mais comparações"
   ]
  },
  {
   "cell_type": "code",
   "execution_count": 24,
   "metadata": {
    "collapsed": false
   },
   "outputs": [
    {
     "name": "stdout",
     "output_type": "stream",
     "text": [
      "b é maior\n"
     ]
    }
   ],
   "source": [
    "a = 5\n",
    "b = 6\n",
    "\n",
    "if a > b:\n",
    "    print(\"a é maior\")\n",
    "\n",
    "if a < b:\n",
    "    print(\"b é maior\")"
   ]
  },
  {
   "cell_type": "code",
   "execution_count": 25,
   "metadata": {
    "collapsed": false
   },
   "outputs": [
    {
     "name": "stdout",
     "output_type": "stream",
     "text": [
      "a é menor\n"
     ]
    }
   ],
   "source": [
    "if a>b:\n",
    "    print(\"a é maior\")\n",
    "else:\n",
    "    print(\"a é menor\")"
   ]
  },
  {
   "cell_type": "code",
   "execution_count": 28,
   "metadata": {
    "collapsed": false
   },
   "outputs": [
    {
     "name": "stdout",
     "output_type": "stream",
     "text": [
      "numeros diferente\n"
     ]
    }
   ],
   "source": [
    "if a==b:\n",
    "    print(\"a é igual a b\")\n",
    "elif a>b:\n",
    "    print(\"a é maior que b\")\n",
    "else:\n",
    "    print(\"numeros diferente\")\n",
    "    \n",
    "    \n",
    "#só executa a primeira condições que for verdadeira"
   ]
  },
  {
   "cell_type": "markdown",
   "metadata": {},
   "source": [
    "### Laços de repetição\n",
    "\n",
    "- Irão repetir um trecho do código:\n",
    "    - Enquanto uma condição for verdadeira\n",
    "    - Durante uma pré-determinada condição\n",
    "- Cuidado com loop infinito:\n",
    "    - Programa se repetir para sempre.\n",
    "- **WHILE**\n",
    "    - Enquanto algo for verdadeiro, ele irá repetir um comando.\n",
    "- **FOR**\n",
    "    - Irá percorrer todos os elementos de uma lista e irá repetir um comando.\n",
    "    - Pode ser usado com metódo range()\n",
    "        - range retorna uma lista"
   ]
  },
  {
   "cell_type": "code",
   "execution_count": 29,
   "metadata": {
    "collapsed": false
   },
   "outputs": [
    {
     "name": "stdout",
     "output_type": "stream",
     "text": [
      "1\n",
      "2\n",
      "3\n",
      "4\n",
      "5\n",
      "6\n",
      "7\n",
      "8\n",
      "9\n"
     ]
    }
   ],
   "source": [
    "x=1 #declaro x = 1\n",
    "while x<10: #Enquanto x for menor que 10:\n",
    "    print(x) #Irá mostrar o valor de x\n",
    "    x=x+1 #novo valor para x para não entrar em loop infinito"
   ]
  },
  {
   "cell_type": "code",
   "execution_count": 31,
   "metadata": {
    "collapsed": false
   },
   "outputs": [
    {
     "name": "stdout",
     "output_type": "stream",
     "text": [
      "0\n",
      "ola\n",
      "True\n",
      "9.99\n"
     ]
    }
   ],
   "source": [
    "lista = [0,\"ola\",True,9.99]\n",
    "\n",
    "for i in lista:\n",
    "    print(i)"
   ]
  },
  {
   "cell_type": "code",
   "execution_count": 33,
   "metadata": {
    "collapsed": false
   },
   "outputs": [
    {
     "name": "stdout",
     "output_type": "stream",
     "text": [
      "0\n",
      "1\n",
      "2\n",
      "3\n"
     ]
    }
   ],
   "source": [
    "for i in range(4):\n",
    "    print(i) #em python o primeiro elemento começa em 0"
   ]
  },
  {
   "cell_type": "code",
   "execution_count": 35,
   "metadata": {
    "collapsed": false
   },
   "outputs": [
    {
     "name": "stdout",
     "output_type": "stream",
     "text": [
      "10\n",
      "12\n",
      "14\n",
      "16\n",
      "18\n"
     ]
    }
   ],
   "source": [
    "for i in range(10,20,2): #incrementa o passo de 2 em 2 \n",
    "    print(i)\n"
   ]
  },
  {
   "cell_type": "markdown",
   "metadata": {},
   "source": [
    "### Comando input\n",
    "- Recebe dados do usuário."
   ]
  },
  {
   "cell_type": "code",
   "execution_count": 36,
   "metadata": {
    "collapsed": false
   },
   "outputs": [
    {
     "name": "stdout",
     "output_type": "stream",
     "text": [
      "Digite um número: 10\n",
      "10\n"
     ]
    }
   ],
   "source": [
    "numero = input(\"Digite um número: \")\n",
    "print(numero)"
   ]
  },
  {
   "cell_type": "code",
   "execution_count": 40,
   "metadata": {
    "collapsed": false
   },
   "outputs": [
    {
     "name": "stdout",
     "output_type": "stream",
     "text": [
      "Digite seu nome: victor\n",
      "Bem-vindo victor\n"
     ]
    }
   ],
   "source": [
    "nome = input(\"Digite seu nome: \")\n",
    "print(\"Bem-vindo \"+nome) \n",
    "#é possivel somar strings também, \n",
    "#operação chamada de concatenação"
   ]
  }
 ],
 "metadata": {
  "kernelspec": {
   "display_name": "Python 3",
   "language": "python",
   "name": "python3"
  },
  "language_info": {
   "codemirror_mode": {
    "name": "ipython",
    "version": 3
   },
   "file_extension": ".py",
   "mimetype": "text/x-python",
   "name": "python",
   "nbconvert_exporter": "python",
   "pygments_lexer": "ipython3",
   "version": "3.4.5"
  }
 },
 "nbformat": 4,
 "nbformat_minor": 2
}
