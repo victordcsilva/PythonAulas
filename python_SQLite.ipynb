{
 "cells": [
  {
   "cell_type": "markdown",
   "metadata": {},
   "source": [
    "# Python com SQL\n",
    "\n",
    "- Muitos aplicativos interagem com dados. \n",
    "- Algumas linguagens de programação já vem com modulos para usar essas interações.\n",
    "- Outras linguagens usam uma terceiro pacote, sendo necessario a intalação. \n",
    "- Nesta aula vamos mostrar as diferentes bibliotecas de Python SQL.\n",
    "- Vamos desenvolver uma pequena database para uma aplicação de social media. A database vai consistir de:\n",
    "    - Usuarios;\n",
    "    - Posts;\n",
    "    - Comentarios;;\n",
    "    - Likes.\n",
    "\n",
    "### Usando Python SQL para conectar com uma database\n",
    "\n",
    "- Antes de interagir com qualquer database através de Python, é necessario se conectar com a database. \n",
    "- É necessario os servidores dos MySQL e PostgreSQL ligados e rodando antes de executar códigos.\n",
    "\n",
    "### SQLite\n",
    "\n",
    "- É bastante utilizado, não é necessario instalação.\n",
    "- Já vem nas bibliotecas padrões de Python com o nome sqlite3.\n",
    "- SQLite é serveless e self-contained, pode ler e escrever dados para um arquivo. \n"
   ]
  },
  {
   "cell_type": "code",
   "execution_count": 41,
   "metadata": {},
   "outputs": [],
   "source": [
    "import sqlite3 #importa sqlite3\n",
    "from sqlite3 import Error #importa a classe Error\n",
    "\n",
    "def create_connection(path): #Função que indica o caminho para o banco de dados SQLite\n",
    "    connection = None \n",
    "    try:\n",
    "        connection = sqlite3.connect(path) #Retorna o objeto connection, que é retornado pela função create_connection. Pode ser usado para executar consultas em bancos de dados.\n",
    "        print(\"Connection to SQLite DB successful\")\n",
    "    except Error as e:\n",
    "        print(\"The error '{e}' occurred\")\n",
    "\n",
    "    return connection    "
   ]
  },
  {
   "cell_type": "code",
   "execution_count": 38,
   "metadata": {},
   "outputs": [
    {
     "name": "stdout",
     "output_type": "stream",
     "text": [
      "Connection to SQLite DB successful\n"
     ]
    }
   ],
   "source": [
    "#Cria uma conexão com o banco de dados SQLite\n",
    "connection = create_connection(\"E:\\\\sm_app.sqlite\")"
   ]
  },
  {
   "cell_type": "markdown",
   "metadata": {},
   "source": [
    "### Criando Tabelas\n",
    "\n",
    "- Já criamos o sm_app.\n",
    "- Vamos criar as tabelas: usuarios, posts, comentarios e likes.\n",
    "- Vamos criar uma função execute_query(), vai receber o objeto connection e uma string query.\n",
    "- Contará com um método .execute(), que pode executar qualquer consulta passada na forma de string. \n"
   ]
  },
  {
   "cell_type": "code",
   "execution_count": 29,
   "metadata": {},
   "outputs": [],
   "source": [
    "def execute_query(connection, query):\n",
    "    cursor = connection.cursor()\n",
    "    try:\n",
    "        cursor.execute(query)\n",
    "        connection.commit()\n",
    "        print(\"Query executed successfully\")\n",
    "    except Error as e:\n",
    "        print(f\"The error '{e}' occurred\")"
   ]
  },
  {
   "cell_type": "code",
   "execution_count": 50,
   "metadata": {},
   "outputs": [],
   "source": [
    "#Escrevendo consulta\n",
    "#Cria uma tabela users com cinco colunas, id, name, age, gender e nationality\n",
    "create_users_table = \"\"\"\n",
    "CREATE TABLE IF NOT EXISTS users (\n",
    "  id INTEGER PRIMARY KEY AUTOINCREMENT,\n",
    "  name TEXT NOT NULL,\n",
    "  age INTEGER,\n",
    "  gender TEXT,\n",
    "  nationality TEXT\n",
    ");\n",
    "\"\"\"\n",
    "\n",
    "\n",
    "#Criando tabela de posts\n",
    "create_posts_table = \"\"\"\n",
    "CREATE TABLE IF NOT EXISTS posts(\n",
    "  id INTEGER PRIMARY KEY AUTOINCREMENT, \n",
    "  title TEXT NOT NULL, \n",
    "  description TEXT NOT NULL, \n",
    "  user_id INTEGER NOT NULL, \n",
    "  FOREIGN KEY (user_id) REFERENCES users (id)\n",
    ");\n",
    "\"\"\"\n"
   ]
  },
  {
   "cell_type": "code",
   "execution_count": 51,
   "metadata": {},
   "outputs": [
    {
     "name": "stdout",
     "output_type": "stream",
     "text": [
      "Query executed successfully\n",
      "Query executed successfully\n"
     ]
    }
   ],
   "source": [
    "#Ligará execute_query() para criar a tabela, passando o objeto connection, junto com a create_users_table\n",
    "\n",
    "execute_query(connection, create_users_table)\n",
    "execute_query(connection, create_posts_table)  "
   ]
  },
  {
   "cell_type": "code",
   "execution_count": 43,
   "metadata": {},
   "outputs": [
    {
     "name": "stdout",
     "output_type": "stream",
     "text": [
      "Query executed successfully\n",
      "Query executed successfully\n"
     ]
    }
   ],
   "source": [
    "#Tabela de comentarios\n",
    "create_comments_table = \"\"\"\n",
    "CREATE TABLE IF NOT EXISTS comments (\n",
    "  id INTEGER PRIMARY KEY AUTOINCREMENT, \n",
    "  text TEXT NOT NULL, \n",
    "  user_id INTEGER NOT NULL, \n",
    "  post_id INTEGER NOT NULL, \n",
    "  FOREIGN KEY (user_id) REFERENCES users (id) FOREIGN KEY (post_id) REFERENCES posts (id)\n",
    ");\n",
    "\"\"\"\n",
    "#tabelas de likes\n",
    "create_likes_table = \"\"\"\n",
    "CREATE TABLE IF NOT EXISTS likes (\n",
    "  id INTEGER PRIMARY KEY AUTOINCREMENT, \n",
    "  user_id INTEGER NOT NULL, \n",
    "  post_id integer NOT NULL, \n",
    "  FOREIGN KEY (user_id) REFERENCES users (id) FOREIGN KEY (post_id) REFERENCES posts (id)\n",
    ");\n",
    "\"\"\"\n",
    "\n",
    "execute_query(connection, create_comments_table)  \n",
    "execute_query(connection, create_likes_table) "
   ]
  },
  {
   "cell_type": "markdown",
   "metadata": {},
   "source": [
    "- Criar tabelas em SQLite só é preciso armazenar a consulta em uma variável de sequência e passar essa variável para cursor.execute()."
   ]
  },
  {
   "cell_type": "markdown",
   "metadata": {},
   "source": [
    "### Inserindo Registros\n",
    "\n",
    "- Para inserir registros pode ser usado a execute_query(). \n",
    "\n",
    "    - Primeiro deve armazenar sua consulta INSERT INTO em uma string.\n",
    "    - Segundo deve passar o objeto connection e a string query para execute_query()."
   ]
  },
  {
   "cell_type": "code",
   "execution_count": 44,
   "metadata": {},
   "outputs": [
    {
     "name": "stdout",
     "output_type": "stream",
     "text": [
      "Query executed successfully\n"
     ]
    }
   ],
   "source": [
    "#Inserindo 5 registros na tabela users:\n",
    "create_users = \"\"\"\n",
    "INSERT INTO\n",
    "  users (name, age, gender, nationality)\n",
    "VALUES\n",
    "  ('James', 25, 'male', 'USA'),\n",
    "  ('Leila', 32, 'female', 'France'),\n",
    "  ('Brigitte', 35, 'female', 'England'),\n",
    "  ('Mike', 40, 'male', 'Denmark'),\n",
    "  ('Elizabeth', 21, 'female', 'Canada');\n",
    "\"\"\"\n",
    "\n",
    "#Não é necessario especificar o valor da coluna id, a tabela users preencherá automaticamente esses cinco registros \n",
    "execute_query(connection, create_users) "
   ]
  },
  {
   "cell_type": "code",
   "execution_count": 52,
   "metadata": {},
   "outputs": [
    {
     "name": "stdout",
     "output_type": "stream",
     "text": [
      "Query executed successfully\n"
     ]
    }
   ],
   "source": [
    "#Inserindo seis registros na tabela post:\n",
    "create_posts = \"\"\"\n",
    "INSERT INTO\n",
    "  posts (title, description, user_id)\n",
    "VALUES\n",
    "  (\"Happy\", \"I am feeling very happy today\", 1),\n",
    "  (\"Hot Weather\", \"The weather is very hot today\", 2),\n",
    "  (\"Help\", \"I need some help with my work\", 2),\n",
    "  (\"Great News\", \"I am getting married\", 1),\n",
    "  (\"Interesting Game\", \"It was a fantastic game of tennis\", 5),\n",
    "  (\"Party\", \"Anyone up for a late-night party today?\", 3);\n",
    "\"\"\"\n",
    "\n",
    "execute_query(connection, create_posts)  "
   ]
  },
  {
   "cell_type": "code",
   "execution_count": 46,
   "metadata": {},
   "outputs": [
    {
     "name": "stdout",
     "output_type": "stream",
     "text": [
      "Query executed successfully\n",
      "Query executed successfully\n"
     ]
    }
   ],
   "source": [
    "#Insere comentarios na tabela comments e likes:\n",
    "create_comments = \"\"\"\n",
    "INSERT INTO\n",
    "  comments (text, user_id, post_id)\n",
    "VALUES\n",
    "  ('Count me in', 1, 6),\n",
    "  ('What sort of help?', 5, 3),\n",
    "  ('Congrats buddy', 2, 4),\n",
    "  ('I was rooting for Nadal though', 4, 5),\n",
    "  ('Help with your thesis?', 2, 3),\n",
    "  ('Many congratulations', 5, 4);\n",
    "\"\"\"\n",
    "\n",
    "create_likes = \"\"\"\n",
    "INSERT INTO\n",
    "  likes (user_id, post_id)\n",
    "VALUES\n",
    "  (1, 6),\n",
    "  (2, 3),\n",
    "  (1, 5),\n",
    "  (5, 4),\n",
    "  (2, 4),\n",
    "  (4, 2),\n",
    "  (3, 6);\n",
    "\"\"\"\n",
    "\n",
    "execute_query(connection, create_comments)\n",
    "execute_query(connection, create_likes) "
   ]
  },
  {
   "cell_type": "markdown",
   "metadata": {},
   "source": [
    "### Selecionando Registros\n",
    "\n",
    "- Vamos usar o cursor.execute(), mas depois disso, precisará ligar .fetchall(), método que retorna uma lista de tuplas em que cada tupla é mapeada para a linha correspondente nos registros recuperados. "
   ]
  },
  {
   "cell_type": "code",
   "execution_count": 53,
   "metadata": {},
   "outputs": [],
   "source": [
    "#Aceita o objeto connection e a consulta SELECT e retorna o registro selecionado\n",
    "def execute_read_query(connection, query):\n",
    "    cursor = connection.cursor()\n",
    "    result = None\n",
    "    try:\n",
    "        cursor.execute(query)\n",
    "        result = cursor.fetchall()\n",
    "        return result\n",
    "    except Error as e:\n",
    "        print(\"The error '{e}' occurred\")"
   ]
  },
  {
   "cell_type": "code",
   "execution_count": 55,
   "metadata": {},
   "outputs": [
    {
     "name": "stdout",
     "output_type": "stream",
     "text": [
      "(1, 'James', 25, 'male', 'USA')\n",
      "(2, 'Leila', 32, 'female', 'France')\n",
      "(3, 'Brigitte', 35, 'female', 'England')\n",
      "(4, 'Mike', 40, 'male', 'Denmark')\n",
      "(5, 'Elizabeth', 21, 'female', 'Canada')\n"
     ]
    }
   ],
   "source": [
    "#Selecionando todos os registros da tabela user\n",
    "select_users = \"SELECT * from users\"\n",
    "users = execute_read_query(connection, select_users)\n",
    "\n",
    "for user in users:\n",
    "    print(user)\n",
    "    \n",
    "#A consulta SELECT seleciona todos os usuários da tabela user, isso é passado para o execute_read_query(), que retorna todos os registros da tabela user.    \n",
    "#Não é recomendado o uso do SELECT em tabelas grandes, pois pode aumentar o número de operações E/S que aumentam o tráfego da rede.\n"
   ]
  },
  {
   "cell_type": "code",
   "execution_count": 56,
   "metadata": {},
   "outputs": [
    {
     "name": "stdout",
     "output_type": "stream",
     "text": [
      "(1, 'Happy', 'I am feeling very happy today', 1)\n",
      "(2, 'Hot Weather', 'The weather is very hot today', 2)\n",
      "(3, 'Help', 'I need some help with my work', 2)\n",
      "(4, 'Great News', 'I am getting married', 1)\n",
      "(5, 'Interesting Game', 'It was a fantastic game of tennis', 5)\n",
      "(6, 'Party', 'Anyone up for a late-night party today?', 3)\n"
     ]
    }
   ],
   "source": [
    "#Registros da tabela posts:\n",
    "select_posts = \"SELECT * FROM posts\"\n",
    "posts = execute_read_query(connection, select_posts)\n",
    "\n",
    "for post in posts:\n",
    "    print(post)"
   ]
  },
  {
   "cell_type": "markdown",
   "metadata": {},
   "source": [
    "- Você também pode executar consultas complexas envolvendo operações JOIN para recurar dados de duas tabelas relacionadas. \n",
    "- É possivel selecionar dados de três tabelas relacionadas implementando vários operadores JOIN."
   ]
  },
  {
   "cell_type": "code",
   "execution_count": 57,
   "metadata": {},
   "outputs": [
    {
     "name": "stdout",
     "output_type": "stream",
     "text": [
      "(1, 'James', 'I am feeling very happy today')\n",
      "(2, 'Leila', 'The weather is very hot today')\n",
      "(2, 'Leila', 'I need some help with my work')\n",
      "(1, 'James', 'I am getting married')\n",
      "(5, 'Elizabeth', 'It was a fantastic game of tennis')\n",
      "(3, 'Brigitte', 'Anyone up for a late-night party today?')\n"
     ]
    }
   ],
   "source": [
    "select_users_posts = \"\"\"\n",
    "SELECT\n",
    "  users.id,\n",
    "  users.name,\n",
    "  posts.description\n",
    "FROM\n",
    "  posts\n",
    "  INNER JOIN users ON users.id = posts.user_id\n",
    "\"\"\"\n",
    "\n",
    "users_posts = execute_read_query(connection, select_users_posts)\n",
    "\n",
    "for users_post in users_posts:\n",
    "    print(users_post)"
   ]
  },
  {
   "cell_type": "code",
   "execution_count": 58,
   "metadata": {},
   "outputs": [
    {
     "name": "stdout",
     "output_type": "stream",
     "text": [
      "('Anyone up for a late-night party today?', 'Count me in', 'James')\n",
      "('I need some help with my work', 'What sort of help?', 'Elizabeth')\n",
      "('I am getting married', 'Congrats buddy', 'Leila')\n",
      "('It was a fantastic game of tennis', 'I was rooting for Nadal though', 'Mike')\n",
      "('I need some help with my work', 'Help with your thesis?', 'Leila')\n",
      "('I am getting married', 'Many congratulations', 'Elizabeth')\n"
     ]
    }
   ],
   "source": [
    "select_posts_comments_users = \"\"\"\n",
    "SELECT\n",
    "  posts.description as post,\n",
    "  text as comment,\n",
    "  name\n",
    "FROM\n",
    "  posts\n",
    "  INNER JOIN comments ON posts.id = comments.post_id\n",
    "  INNER JOIN users ON users.id = comments.user_id\n",
    "\"\"\"\n",
    "\n",
    "posts_comments_users = execute_read_query(\n",
    "    connection, select_posts_comments_users\n",
    ")\n",
    "\n",
    "for posts_comments_user in posts_comments_users:\n",
    "    print(posts_comments_user)"
   ]
  },
  {
   "cell_type": "code",
   "execution_count": 59,
   "metadata": {},
   "outputs": [
    {
     "name": "stdout",
     "output_type": "stream",
     "text": [
      "['post', 'comment', 'name']\n"
     ]
    }
   ],
   "source": [
    "cursor = connection.cursor()\n",
    "cursor.execute(select_posts_comments_users)\n",
    "cursor.fetchall()\n",
    "\n",
    "column_names = [description[0] for description in cursor.description]\n",
    "print(column_names)"
   ]
  },
  {
   "cell_type": "markdown",
   "metadata": {},
   "source": [
    "- Where:\n",
    "    - Executando uma consulta SELECT que retorna a postagem, juntamente com o número total de curtidas que a postagem recebeu.\n",
    "    - Usando a cláusula WHERE é possivel retornar resultados mais específicos"
   ]
  },
  {
   "cell_type": "code",
   "execution_count": 60,
   "metadata": {},
   "outputs": [
    {
     "name": "stdout",
     "output_type": "stream",
     "text": [
      "('The weather is very hot today', 1)\n",
      "('I need some help with my work', 1)\n",
      "('I am getting married', 2)\n",
      "('It was a fantastic game of tennis', 1)\n",
      "('Anyone up for a late-night party today?', 2)\n"
     ]
    }
   ],
   "source": [
    "select_post_likes = \"\"\"\n",
    "SELECT\n",
    "  description as Post,\n",
    "  COUNT(likes.id) as Likes\n",
    "FROM\n",
    "  likes,\n",
    "  posts\n",
    "WHERE\n",
    "  posts.id = likes.post_id\n",
    "GROUP BY\n",
    "  likes.post_id\n",
    "\"\"\"\n",
    "\n",
    "post_likes = execute_read_query(connection, select_post_likes)\n",
    "\n",
    "for post_like in post_likes:\n",
    "    print(post_like)"
   ]
  },
  {
   "cell_type": "markdown",
   "metadata": {},
   "source": [
    "### Atualizando Registros da Tabela\n",
    "\n",
    "- É bastante simples.\n",
    "- Faz uso novamente do execute_query().\n",
    "- Primeiro seleciona a descrição do post:"
   ]
  },
  {
   "cell_type": "code",
   "execution_count": 61,
   "metadata": {},
   "outputs": [
    {
     "name": "stdout",
     "output_type": "stream",
     "text": [
      "('The weather is very hot today',)\n"
     ]
    }
   ],
   "source": [
    "select_post_description = \"SELECT description FROM posts WHERE id = 2\"\n",
    "\n",
    "post_description = execute_read_query(connection, select_post_description)\n",
    "\n",
    "for description in post_description:\n",
    "    print(description)"
   ]
  },
  {
   "cell_type": "code",
   "execution_count": 62,
   "metadata": {},
   "outputs": [
    {
     "name": "stdout",
     "output_type": "stream",
     "text": [
      "Query executed successfully\n"
     ]
    }
   ],
   "source": [
    "#Depois atualiza a descrição:\n",
    "update_post_description = \"\"\"\n",
    "UPDATE\n",
    "  posts\n",
    "SET\n",
    "  description = \"The weather has become pleasant now\"\n",
    "WHERE\n",
    "  id = 2\n",
    "\"\"\"\n",
    "\n",
    "execute_query(connection, update_post_description)"
   ]
  },
  {
   "cell_type": "code",
   "execution_count": 64,
   "metadata": {},
   "outputs": [
    {
     "name": "stdout",
     "output_type": "stream",
     "text": [
      "('The weather has become pleasant now',)\n"
     ]
    }
   ],
   "source": [
    "select_post_description = \"SELECT description FROM posts WHERE id = 2\"\n",
    "\n",
    "post_description = execute_read_query(connection, select_post_description)\n",
    "\n",
    "for description in post_description:\n",
    "    print(description)\n",
    "    \n",
    "    #A saida foi atualizada"
   ]
  },
  {
   "cell_type": "markdown",
   "metadata": {},
   "source": [
    "### Deletando Registros de Tabela\n",
    "\n",
    "- Usa a consulta DELETE.\n",
    "- Passar o objeto connection e a string consulta para o registro que deseja excluir.\n",
    "- Depois execute_query() criará um objeto cursor usando o connection e passará a consulta de string para cursor.execute(), que excluirá os registros."
   ]
  },
  {
   "cell_type": "code",
   "execution_count": 63,
   "metadata": {},
   "outputs": [
    {
     "name": "stdout",
     "output_type": "stream",
     "text": [
      "Query executed successfully\n"
     ]
    }
   ],
   "source": [
    "delete_comment = \"DELETE FROM comments WHERE id = 5\"\n",
    "execute_query(connection, delete_comment)"
   ]
  },
  {
   "cell_type": "code",
   "execution_count": 65,
   "metadata": {},
   "outputs": [
    {
     "name": "stdout",
     "output_type": "stream",
     "text": [
      "('Anyone up for a late-night party today?', 'Count me in', 'James')\n",
      "('I need some help with my work', 'What sort of help?', 'Elizabeth')\n",
      "('I am getting married', 'Congrats buddy', 'Leila')\n",
      "('It was a fantastic game of tennis', 'I was rooting for Nadal though', 'Mike')\n",
      "('I am getting married', 'Many congratulations', 'Elizabeth')\n"
     ]
    }
   ],
   "source": [
    "posts_comments_users = execute_read_query(\n",
    "    connection, select_posts_comments_users\n",
    ")\n",
    "\n",
    "for posts_comments_user in posts_comments_users:\n",
    "    print(posts_comments_user)"
   ]
  }
 ],
 "metadata": {
  "kernelspec": {
   "display_name": "Python 3",
   "language": "python",
   "name": "python3"
  },
  "language_info": {
   "codemirror_mode": {
    "name": "ipython",
    "version": 3
   },
   "file_extension": ".py",
   "mimetype": "text/x-python",
   "name": "python",
   "nbconvert_exporter": "python",
   "pygments_lexer": "ipython3",
   "version": "3.7.3"
  }
 },
 "nbformat": 4,
 "nbformat_minor": 4
}
