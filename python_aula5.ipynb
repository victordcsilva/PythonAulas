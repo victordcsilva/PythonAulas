{
 "cells": [
  {
   "cell_type": "markdown",
   "metadata": {},
   "source": [
    "# Curso de Python com exemplos\n"
   ]
  },
  {
   "cell_type": "markdown",
   "metadata": {},
   "source": [
    "## Aula  5"
   ]
  },
  {
   "cell_type": "markdown",
   "metadata": {},
   "source": [
    "### Web APP\n",
    "\n",
    "- Primeiro, instalar uma biblioteca, digite \"pip3 install flask\"\n"
   ]
  },
  {
   "cell_type": "code",
   "execution_count": null,
   "metadata": {
    "collapsed": true
   },
   "outputs": [],
   "source": [
    "from flask import Flask\n",
    "\n",
    "app = Flask(__name__)\n",
    "\n",
    "@app.route(\"/\")\n",
    "def home():\n",
    "    return \"Hello World\"\n",
    "\n",
    "if __name__ == \"__main__\":\n",
    "    app.run()"
   ]
  },
  {
   "cell_type": "markdown",
   "metadata": {},
   "source": [
    "- Ao rodar o programa acima, será gerado um servidor local e um endereço, esse endereço poderá ser aberto em algum navegador, e o programa será executado nesse endereço\n",
    "\n",
    "- Próximo passo será colocado uma parte de código HTML\n",
    "    - Crie uma pasta com nome \"templates\" e nela coloque um arquivo \"index.html\"\n",
    "    - Copie e cole o código abaixo "
   ]
  },
  {
   "cell_type": "code",
   "execution_count": null,
   "metadata": {
    "collapsed": true
   },
   "outputs": [],
   "source": [
    "<html>\n",
    "    <title> Metros para pés </title> \n",
    "    <form method=\"POST\">\n",
    "        <label> Metros: </label>\n",
    "        <input type=\"text name=\"textbox\" value = {{user_text | safe}}> <br>\n",
    "        <label> Pés: </label>\n",
    "        <label> {{output | safe}} </label> <br>\n",
    "        <button type=\"submit\" name=\"submit\">Converter</button>\n",
    "    </form>\n",
    "</html>"
   ]
  },
  {
   "cell_type": "markdown",
   "metadata": {},
   "source": [
    "- O novo arquivo do Python ficará assim:"
   ]
  },
  {
   "cell_type": "code",
   "execution_count": null,
   "metadata": {
    "collapsed": true
   },
   "outputs": [],
   "source": [
    "from flask import Flask, render_template #Importar a classe Flask\n",
    "\n",
    "app = Flask(__name__) # Cria objeto app\n",
    "\n",
    "@app.route(\"/\")\n",
    "def home():\n",
    "    return render_template(\"index.html\")\n",
    "\n",
    "if __name__ == \"__main__\":\n",
    "    app.run()"
   ]
  },
  {
   "cell_type": "markdown",
   "metadata": {},
   "source": [
    "- Para fazer o programa funcionar"
   ]
  },
  {
   "cell_type": "code",
   "execution_count": null,
   "metadata": {
    "collapsed": true
   },
   "outputs": [],
   "source": [
    "from flask import Flask, render_template, request #Importar a classe Flask\n",
    "import backend\n",
    "\n",
    "app = Flask(__name__) # Cria objeto app\n",
    "\n",
    "@app.route(\"/\", methods = [\"GET\", \"POST\"])\n",
    "def home():\n",
    "    if request.method == \"GET\":\n",
    "        return render_template(\"index.html\")\n",
    "    if request.method == \"POST\":\n",
    "        text = request.form.get('textbox')\n",
    "        return render_template(\"index.html\", \n",
    "        output = backend.metro_pes(float(text)),\n",
    "        user_text = text)\n",
    "\n",
    "if __name__ == \"__main__\":\n",
    "    app.run()"
   ]
  },
  {
   "cell_type": "markdown",
   "metadata": {},
   "source": [
    "- Resultando em:\n",
    "![fig3](https://i.ibb.co/6FBN7bJ/image.png)"
   ]
  },
  {
   "cell_type": "code",
   "execution_count": null,
   "metadata": {
    "collapsed": true
   },
   "outputs": [],
   "source": []
  }
 ],
 "metadata": {
  "kernelspec": {
   "display_name": "Python 3",
   "language": "python",
   "name": "python3"
  },
  "language_info": {
   "codemirror_mode": {
    "name": "ipython",
    "version": 3
   },
   "file_extension": ".py",
   "mimetype": "text/x-python",
   "name": "python",
   "nbconvert_exporter": "python",
   "pygments_lexer": "ipython3",
   "version": "3.4.5"
  }
 },
 "nbformat": 4,
 "nbformat_minor": 2
}
