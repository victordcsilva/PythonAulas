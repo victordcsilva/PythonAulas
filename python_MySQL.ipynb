{
 "cells": [
  {
   "cell_type": "markdown",
   "metadata": {},
   "source": [
    "# Python com SQL\n",
    "\n",
    "- Muitos aplicativos interagem com dados. \n",
    "- Algumas linguagens de programação já vem com modulos para usar essas interações.\n",
    "- Outras linguagens usam uma terceiro pacote, sendo necessario a intalação. \n",
    "- Nesta aula vamos mostrar as diferentes bibliotecas de Python SQL.\n",
    "- Vamos desenvolver uma pequena database para uma aplicação de social media. A database vai consistir de:\n",
    "    - Usuarios;\n",
    "    - Posts;\n",
    "    - Comentarios;;\n",
    "    - Likes.\n",
    "\n",
    "### Usando Python SQL para conectar com uma database\n",
    "\n",
    "- Antes de interagir com qualquer database através de Python, é necessario se conectar com a database. \n",
    "- É necessario os servidores dos MySQL e PostgreSQL ligados e rodando antes de executar códigos.\n",
    "\n",
    "### MySQL\n",
    "\n",
    "- Não existe modulo padrão SQL para python;\n",
    "- É necessario a instalação.\n",
    "    - conda install -c anaconda mysql-connector-python, ou\n",
    "    - pip install mysql-connector-python\n",
    "- MySQL é um sistema de gerenciamento de banco de dados baseado em servidor. \n",
    "- Um servidor MySQL pode ter vários bancos de dados. Ao contrário do SQLite, em que criar uma conexão equivale a criar um banco de dados, um banco de dados MySQL possui um processo de duas etapas para a criação do banco de dados:\n",
    "\n",
    "    - Faça uma conexão com um servidor MySQL.\n",
    "    - Execute uma consulta separada para criar o banco de dados."
   ]
  },
  {
   "cell_type": "code",
   "execution_count": 141,
   "metadata": {},
   "outputs": [
    {
     "name": "stdout",
     "output_type": "stream",
     "text": [
      "Connection to MySQL DB successful\n"
     ]
    }
   ],
   "source": [
    "import mysql.connector\n",
    "from mysql.connector import Error\n",
    "\n",
    "def create_connection(host_name, user_name, user_password):\n",
    "    connection = None\n",
    "    try:\n",
    "        connection = mysql.connector.connect(\n",
    "            host=host_name,\n",
    "            user=user_name,\n",
    "            passwd=user_password\n",
    "        )\n",
    "        print(\"Connection to MySQL DB successful\")\n",
    "    except Error as e:\n",
    "        print(f\"The error '{e}' occurred\")\n",
    "\n",
    "    return connection\n",
    "\n",
    "connection = create_connection(\"localhost\", \"root\", \"2303\")"
   ]
  },
  {
   "cell_type": "markdown",
   "metadata": {},
   "source": [
    "- No script acima, você define uma função create_connection()que aceita três parâmetros:\n",
    "\n",
    "    - nome de anfitrião\n",
    "    - nome do usuário\n",
    "    - senha do usuário\n",
    "- O módulo mysql.connector contém um método .connect() que você usa na linha 7 para conectar-se a um servidor de banco de dados MySQL. Depois que a conexão é estabelecida, o objeto connection é retornado à função de chamada. - - - Finalmente, na linha 18 você liga create_connection()com o nome do host, nome de usuário e senha.\n",
    "\n",
    "- Até agora, você apenas estabeleceu a conexão. O banco de dados ainda não foi criado. Para fazer isso, você definirá outra função create_database()que aceita dois parâmetros:\n",
    "\n",
    "    - connection: é o objeto connectiono para o servidor de banco de dados com o qual você deseja interagir.\n",
    "    - query: é a consulta que cria o banco de dados."
   ]
  },
  {
   "cell_type": "code",
   "execution_count": 142,
   "metadata": {},
   "outputs": [
    {
     "name": "stdout",
     "output_type": "stream",
     "text": [
      "Database created successfully\n"
     ]
    }
   ],
   "source": [
    "def create_database(connection, query):\n",
    "    cursor = connection.cursor()\n",
    "    try:\n",
    "        cursor.execute(query)\n",
    "        print(\"Database created successfully\")\n",
    "    except Error as e:\n",
    "        print(f\"The error '{e}' occurred\")\n",
    "        \n",
    "        #Crie um banco de dados nomeado sm_app para seu aplicativo de mídia social \n",
    "        #no servidor de banco de dados MySQL:\n",
    "        \n",
    "create_database_query = \"CREATE DATABASE sm_app\"\n",
    "create_database(connection, create_database_query)"
   ]
  },
  {
   "cell_type": "markdown",
   "metadata": {},
   "source": [
    "- Agora você criou um banco sm_appde dados no servidor de banco de dados. No entanto, o objeto connection retornado pelo create_connection() é conectado ao servidor de banco de dados MySQL. \n",
    "- Você precisa se conectar ao sm_app banco de dados. Para fazer isso, você pode modificar create_connection() da seguinte maneira:"
   ]
  },
  {
   "cell_type": "code",
   "execution_count": 143,
   "metadata": {},
   "outputs": [],
   "source": [
    "def create_connection(host_name, user_name, user_password, db_name):\n",
    "    connection = None\n",
    "    try:\n",
    "        connection = mysql.connector.connect(\n",
    "            host=host_name,\n",
    "            user=user_name,\n",
    "            passwd=user_password,\n",
    "            database=db_name\n",
    "        )\n",
    "        print(\"Connection to MySQL DB successful\")\n",
    "    except Error as e:\n",
    "        print(f\"The error '{e}' occurred\")\n",
    "\n",
    "    return connection"
   ]
  },
  {
   "cell_type": "markdown",
   "metadata": {},
   "source": [
    "- Você pode ver na linha 8 que create_connection()agora aceita um parâmetro adicional chamado db_name. Este parâmetro especifica o nome do banco de dados ao qual você deseja se conectar. Você pode passar o nome do banco de dados ao qual deseja se conectar ao chamar esta função:"
   ]
  },
  {
   "cell_type": "code",
   "execution_count": 144,
   "metadata": {},
   "outputs": [
    {
     "name": "stdout",
     "output_type": "stream",
     "text": [
      "Connection to MySQL DB successful\n"
     ]
    }
   ],
   "source": [
    "connection = create_connection(\"localhost\", \"root\", \"2303\", \"sm_app\")\n",
    "#O script acima chama create_connection() e conecta com sucesso ao sm_appbanco de dados."
   ]
  },
  {
   "cell_type": "markdown",
   "metadata": {},
   "source": [
    "### Criando Tabelas\n",
    "\n",
    "- Você usará o módulo Python SQL mysql-connector-python para criar tabelas no MySQL. \n",
    "- Assim como no SQLite, você precisa passar sua consulta para cursor.execute(), retornada chamando .cursor() o objeto connection. \n",
    "- Você pode criar outra função execute_query() que aceite a string connectione query:"
   ]
  },
  {
   "cell_type": "code",
   "execution_count": 145,
   "metadata": {},
   "outputs": [],
   "source": [
    "def execute_query(connection, query):\n",
    "    cursor = connection.cursor()\n",
    "    try:\n",
    "        cursor.execute(query)\n",
    "        connection.commit()\n",
    "        print(\"Query executed successfully\")\n",
    "    except Error as e:\n",
    "        print(f\"The error '{e}' occurred\")"
   ]
  },
  {
   "cell_type": "markdown",
   "metadata": {},
   "source": [
    "- Na linha 4, você passa o query para cursor.execute().\n",
    "\n",
    "- Agora você pode criar sua userstabela usando esta função:"
   ]
  },
  {
   "cell_type": "code",
   "execution_count": 146,
   "metadata": {},
   "outputs": [
    {
     "name": "stdout",
     "output_type": "stream",
     "text": [
      "Query executed successfully\n"
     ]
    }
   ],
   "source": [
    "create_users_table = \"\"\"\n",
    "CREATE TABLE IF NOT EXISTS users (\n",
    "  id INT AUTO_INCREMENT, \n",
    "  name TEXT NOT NULL, \n",
    "  age INT, \n",
    "  gender TEXT, \n",
    "  nationality TEXT, \n",
    "  PRIMARY KEY (id)\n",
    ") ENGINE = InnoDB\n",
    "\"\"\"\n",
    "\n",
    "\n",
    "execute_query(connection, create_users_table)\n"
   ]
  },
  {
   "cell_type": "markdown",
   "metadata": {},
   "source": [
    "- A consulta para implementar a relação de chave estrangeira é um pouco diferente no MySQL em comparação com o SQLite. \n",
    "- Além disso, o MySQL usa a AUTO_INCREMENT palavra - chave (em comparação com a AUTOINCREMENT palavra-chave SQLite ) para criar colunas onde os valores são incrementados automaticamente quando novos registros são inseridos.\n",
    "\n",
    "- O script a seguir cria a posts tabela, que contém uma chave estrangeira user_id que faz referência à coluna id da tabela users:"
   ]
  },
  {
   "cell_type": "code",
   "execution_count": 147,
   "metadata": {},
   "outputs": [
    {
     "name": "stdout",
     "output_type": "stream",
     "text": [
      "Query executed successfully\n"
     ]
    }
   ],
   "source": [
    "create_posts_table = \"\"\"\n",
    "CREATE TABLE IF NOT EXISTS posts (\n",
    "  id INT AUTO_INCREMENT, \n",
    "  title TEXT NOT NULL, \n",
    "  description TEXT NOT NULL, \n",
    "  user_id INTEGER NOT NULL, \n",
    "  FOREIGN KEY fk_user_id (user_id) REFERENCES users(id), \n",
    "  PRIMARY KEY (id)\n",
    ") ENGINE = InnoDB\n",
    "\"\"\"\n",
    "\n",
    "\n",
    "\n",
    "execute_query(connection, create_posts_table)"
   ]
  },
  {
   "cell_type": "code",
   "execution_count": 155,
   "metadata": {},
   "outputs": [
    {
     "name": "stdout",
     "output_type": "stream",
     "text": [
      "Query executed successfully\n",
      "Query executed successfully\n"
     ]
    }
   ],
   "source": [
    "create_likes_table = \"\"\"\n",
    "CREATE TABLE IF NOT EXISTS likes (\n",
    "  id INT AUTO_INCREMENT,\n",
    "  user_id INTEGER NOT NULL,\n",
    "  post_id INTEGER NOT NULL,\n",
    "  FOREIGN KEY fk_user_id (user_id) REFERENCES users(id),\n",
    "  FOREIGN KEY fk_post_id (post_id) REFERENCES posts(id), \n",
    "  PRIMARY KEY (id)\n",
    ") ENGINE = InnoDB\n",
    "\"\"\"\n",
    "\n",
    "create_comments_table = \"\"\"\n",
    "CREATE TABLE IF NOT EXISTS comments (\n",
    "  id INT AUTO_INCREMENT,\n",
    "  text TEXT NOT NULL, \n",
    "  user_id INTEGER NOT NULL, \n",
    "  post_id INTEGER NOT NULL,\n",
    "  FOREIGN KEY fk_user_id (user_id) REFERENCES users(id), \n",
    "  FOREIGN KEY fk_post_id (post_id) REFERENCES posts(id), \n",
    "  PRIMARY KEY (id)\n",
    ") ENGINE = InnoDB\n",
    "\"\"\"\n",
    "execute_query(connection, create_likes_table)\n",
    "execute_query(connection, create_comments_table)"
   ]
  },
  {
   "cell_type": "markdown",
   "metadata": {},
   "source": [
    "### Inserindo Registros\n",
    "- Existem duas maneiras de inserir registros nos bancos de dados MySQL a partir de um aplicativo Python. \n",
    "    - A primeira abordagem é semelhante ao SQLite. Você pode armazenar a INSERT INTO consulta em uma sequência e, em seguida, usar cursor.execute()para inserir registros.\n",
    "\n",
    "- Anteriormente, você definiu uma função de wrapper execute_query() usada para inserir registros. Você pode usar esta mesma função agora para inserir registros na sua tabela MySQL. O script a seguir insere registros na tabela users usando execute_query():"
   ]
  },
  {
   "cell_type": "code",
   "execution_count": 149,
   "metadata": {},
   "outputs": [
    {
     "name": "stdout",
     "output_type": "stream",
     "text": [
      "Query executed successfully\n",
      "Query executed successfully\n"
     ]
    }
   ],
   "source": [
    "create_users = \"\"\"\n",
    "INSERT INTO\n",
    "  `users` (`name`, `age`, `gender`, `nationality`)\n",
    "VALUES\n",
    "  ('James', 25, 'male', 'USA'),\n",
    "  ('Leila', 32, 'female', 'France'),\n",
    "  ('Brigitte', 35, 'female', 'England'),\n",
    "  ('Mike', 40, 'male', 'Denmark'),\n",
    "  ('Elizabeth', 21, 'female', 'Canada');\n",
    "\"\"\"\n",
    "\n",
    "execute_query(connection, create_users)  \n",
    "\n",
    "create_posts = \"\"\"\n",
    "INSERT INTO\n",
    "  `posts` (`title`, `description`, `user_id`)\n",
    "VALUES\n",
    "  ('Happy', 'I am feeling very happy today', 1),\n",
    "  ('Hot Weather', 'The weather is very hot today', 2),\n",
    "  ('Help', 'I need some help with my work', 2),\n",
    "  ('Great News', 'I am getting married', 1),\n",
    "  ('Interesting Game', 'It was a fantastic game of tennis', 5),\n",
    "  ('Party', 'Anyone up for a late-night party today?', 3);\n",
    "\"\"\"\n",
    "\n",
    "execute_query(connection, create_posts) \n",
    "\n"
   ]
  },
  {
   "cell_type": "code",
   "execution_count": 156,
   "metadata": {
    "scrolled": true
   },
   "outputs": [
    {
     "name": "stdout",
     "output_type": "stream",
     "text": [
      "Query executed successfully\n"
     ]
    }
   ],
   "source": [
    "create_comments = \"\"\"\n",
    "INSERT INTO\n",
    "  `comments` (`text`, `user_id`, `post_id`)\n",
    "VALUES\n",
    "  ('Count me in', 1, 6),\n",
    "  ('What sort of help?', 5, 3),\n",
    "  ('Congrats buddy', 2, 4),\n",
    "  ('I was rooting for Nadal though', 4, 5),\n",
    "  ('Help with your thesis?', 2, 3),\n",
    "  ('Many congratulations', 5, 4);\n",
    "\"\"\"\n",
    "\n",
    "execute_query(connection, create_comments)"
   ]
  },
  {
   "cell_type": "markdown",
   "metadata": {},
   "source": [
    "- A segunda abordagem utiliza cursor.executemany(), que aceita dois parâmetros:\n",
    "\n",
    "    - A sequência de consultas que contém espaços reservados para os registros a serem inseridos\n",
    "    - A lista de registros que você deseja inserir\n",
    "- Veja o exemplo a seguir, que insere dois registros na tabela likes:"
   ]
  },
  {
   "cell_type": "code",
   "execution_count": 107,
   "metadata": {},
   "outputs": [],
   "source": [
    "sql = \"INSERT INTO likes ( user_id, post_id ) VALUES ( %s, %s )\"\n",
    "val = [(4, 5), (3, 4)]\n",
    "\n",
    "cursor = connection.cursor()\n",
    "cursor.executemany(sql, val)\n",
    "connection.commit()"
   ]
  },
  {
   "cell_type": "code",
   "execution_count": 151,
   "metadata": {},
   "outputs": [
    {
     "name": "stdout",
     "output_type": "stream",
     "text": [
      "Query executed successfully\n"
     ]
    }
   ],
   "source": [
    "\n",
    "create_likes = \"\"\"\n",
    "INSERT INTO\n",
    "  `likes` (`user_id`, `post_id`)\n",
    "VALUES\n",
    "  (1, 6),\n",
    "  (2, 3),\n",
    "  (1, 5),\n",
    "  (5, 4),\n",
    "  (2, 4),\n",
    "  (4, 2),\n",
    "  (3, 6);\n",
    "\"\"\"\n",
    "\n",
    "execute_query(connection, create_likes) "
   ]
  },
  {
   "cell_type": "markdown",
   "metadata": {},
   "source": [
    "### Selecionando Registros\n",
    "\n",
    "- O processo de seleção de registros no MySQL é absolutamente idêntico ao da seleção de registros no SQLite. Você pode usar cursor.execute()seguido por .fetchall(). O script a seguir cria uma função de wrapper execute_read_query()que você pode usar para selecionar registros:"
   ]
  },
  {
   "cell_type": "code",
   "execution_count": 152,
   "metadata": {},
   "outputs": [],
   "source": [
    "def execute_read_query(connection, query):\n",
    "    cursor = connection.cursor()\n",
    "    result = None\n",
    "    try:\n",
    "        cursor.execute(query)\n",
    "        result = cursor.fetchall()\n",
    "        return result\n",
    "    except Error as e:\n",
    "        print(f\"The error '{e}' occurred\")"
   ]
  },
  {
   "cell_type": "code",
   "execution_count": 159,
   "metadata": {},
   "outputs": [
    {
     "name": "stdout",
     "output_type": "stream",
     "text": [
      "(1, 'James', 25, 'male', 'USA')\n",
      "(2, 'Leila', 32, 'female', 'France')\n",
      "(3, 'Brigitte', 35, 'female', 'England')\n",
      "(4, 'Mike', 40, 'male', 'Denmark')\n",
      "(5, 'Elizabeth', 21, 'female', 'Canada')\n"
     ]
    }
   ],
   "source": [
    "select_users = \"SELECT * FROM users\"\n",
    "users = execute_read_query(connection, select_users)\n",
    "\n",
    "for user in users:\n",
    "    print(user)"
   ]
  },
  {
   "cell_type": "code",
   "execution_count": 153,
   "metadata": {},
   "outputs": [
    {
     "name": "stdout",
     "output_type": "stream",
     "text": [
      "(1, 'Happy', 'I am feeling very happy today', 1)\n",
      "(2, 'Hot Weather', 'The weather is very hot today', 2)\n",
      "(3, 'Help', 'I need some help with my work', 2)\n",
      "(4, 'Great News', 'I am getting married', 1)\n",
      "(5, 'Interesting Game', 'It was a fantastic game of tennis', 5)\n",
      "(6, 'Party', 'Anyone up for a late-night party today?', 3)\n"
     ]
    }
   ],
   "source": [
    "select_posts = \"SELECT * FROM posts\"\n",
    "posts = execute_read_query(connection, select_posts)\n",
    "\n",
    "for post in posts:\n",
    "    print(post)"
   ]
  },
  {
   "cell_type": "code",
   "execution_count": 157,
   "metadata": {},
   "outputs": [
    {
     "name": "stdout",
     "output_type": "stream",
     "text": [
      "(1, 'Count me in', 1, 6)\n",
      "(2, 'What sort of help?', 5, 3)\n",
      "(3, 'Congrats buddy', 2, 4)\n",
      "(4, 'I was rooting for Nadal though', 4, 5)\n",
      "(5, 'Help with your thesis?', 2, 3)\n",
      "(6, 'Many congratulations', 5, 4)\n"
     ]
    }
   ],
   "source": [
    "select_comments = \"SELECT * FROM comments\"\n",
    "comments = execute_read_query(connection, select_comments)\n",
    "\n",
    "for comment in comments:\n",
    "    print(comment)"
   ]
  },
  {
   "cell_type": "code",
   "execution_count": 158,
   "metadata": {},
   "outputs": [
    {
     "name": "stdout",
     "output_type": "stream",
     "text": [
      "(1, 1, 6)\n",
      "(2, 2, 3)\n",
      "(3, 1, 5)\n",
      "(4, 5, 4)\n",
      "(5, 2, 4)\n",
      "(6, 4, 2)\n",
      "(7, 3, 6)\n"
     ]
    }
   ],
   "source": [
    "select_likes = \"SELECT * FROM likes\"\n",
    "likes = execute_read_query(connection, select_likes)\n",
    "\n",
    "for like in likes:\n",
    "    print(like)"
   ]
  },
  {
   "cell_type": "markdown",
   "metadata": {},
   "source": [
    "### Atualizando registro da tabela\n",
    "\n",
    "- O processo de atualização de registros no MySQL mysql-connector-python também é uma cópia do sqlite3 módulo Python SQL. Você precisa passar a consulta de string para cursor.execute(). Por exemplo, o script a seguir atualiza a descrição da postagem com um idde 2:"
   ]
  },
  {
   "cell_type": "code",
   "execution_count": 160,
   "metadata": {},
   "outputs": [
    {
     "name": "stdout",
     "output_type": "stream",
     "text": [
      "Query executed successfully\n"
     ]
    }
   ],
   "source": [
    "update_post_description = \"\"\"\n",
    "UPDATE\n",
    "  posts\n",
    "SET\n",
    "  description = \"The weather has become pleasant now\"\n",
    "WHERE\n",
    "  id = 2\n",
    "\"\"\"\n",
    "\n",
    "execute_query(connection,  update_post_description)"
   ]
  },
  {
   "cell_type": "markdown",
   "metadata": {},
   "source": [
    "### Excluindo registro da tabela\n",
    "- O processo de exclusão no MySQL também é semelhante ao SQLite, conforme mostrado no exemplo a seguir:"
   ]
  },
  {
   "cell_type": "code",
   "execution_count": 161,
   "metadata": {},
   "outputs": [
    {
     "name": "stdout",
     "output_type": "stream",
     "text": [
      "Query executed successfully\n"
     ]
    }
   ],
   "source": [
    "delete_comment = \"DELETE FROM comments WHERE id = 2\"\n",
    "execute_query(connection, delete_comment)"
   ]
  },
  {
   "cell_type": "code",
   "execution_count": 162,
   "metadata": {},
   "outputs": [
    {
     "name": "stdout",
     "output_type": "stream",
     "text": [
      "(1, 'Count me in', 1, 6)\n",
      "(3, 'Congrats buddy', 2, 4)\n",
      "(4, 'I was rooting for Nadal though', 4, 5)\n",
      "(5, 'Help with your thesis?', 2, 3)\n",
      "(6, 'Many congratulations', 5, 4)\n"
     ]
    }
   ],
   "source": [
    "select_comments = \"SELECT * FROM comments\"\n",
    "comments = execute_read_query(connection, select_comments)\n",
    "\n",
    "for comment in comments:\n",
    "    print(comment)"
   ]
  }
 ],
 "metadata": {
  "kernelspec": {
   "display_name": "Python 3",
   "language": "python",
   "name": "python3"
  },
  "language_info": {
   "codemirror_mode": {
    "name": "ipython",
    "version": 3
   },
   "file_extension": ".py",
   "mimetype": "text/x-python",
   "name": "python",
   "nbconvert_exporter": "python",
   "pygments_lexer": "ipython3",
   "version": "3.7.3"
  }
 },
 "nbformat": 4,
 "nbformat_minor": 4
}
