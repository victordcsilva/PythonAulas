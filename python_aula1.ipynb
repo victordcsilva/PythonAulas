{
 "cells": [
  {
   "cell_type": "markdown",
   "metadata": {},
   "source": [
    "# Curso de Python com exemplos\n",
    "\n"
   ]
  },
  {
   "cell_type": "markdown",
   "metadata": {},
   "source": [
    "## Aula 1 "
   ]
  },
  {
   "cell_type": "markdown",
   "metadata": {},
   "source": [
    "- É possivel rodar Python em um navegador web. https://www.pythonanywhere.com/\n",
    "    - Clica em $ bash\n",
    "    - Pyhton já vem instalado, não é necessario instalar nada\n",
    "    - Digite \"nano myprogram.py\", aperte _enter_\n",
    "    - Digite \"print(\"Hello!\") e salve \n",
    "    - Para executar algum programa, digite python3 nome.py (substitua nome pelo nome do programa que você criou. \n",
    "    \n",
    "- Outros comandos:\n",
    "    - __mkdir__: Vai criar um diretório. Ex. \"mkdir basics\", cria diretório chamado basics.\n",
    "    - __cd__: Vai entrar no diretório. Ex. \"cd basics\".\n",
    "    - __nano__: Vai abrir um editor de texto. Ex. \"nano first.py\". Abre um editor nomeado first.py. \n",
    "    - __python3__: Vai executar um arquivo python. Ex. \"python3 first.py*\n",
    "\n",
    "- Python Shell\n",
    "    - Executar o comando python3 sem argumentos, irá abrir o shell.\n",
    "    - Útil para testar o código de forma rápida. \n",
    "    - Para sair do shell, digite \"exit()\"\n",
    "    - No Shell não é possivel salvar os códigos python.\n"
   ]
  },
  {
   "cell_type": "markdown",
   "metadata": {},
   "source": [
    "## Primeiro exemplo\n",
    "\n",
    "Hello World\n",
    "\n"
   ]
  },
  {
   "cell_type": "code",
   "execution_count": 4,
   "metadata": {
    "collapsed": false
   },
   "outputs": [
    {
     "name": "stdout",
     "output_type": "stream",
     "text": [
      "Hello!\n"
     ]
    }
   ],
   "source": [
    "print(\"Hello!\")"
   ]
  },
  {
   "cell_type": "markdown",
   "metadata": {},
   "source": [
    "- __print()__ Comando para aparecer mensagem na tela"
   ]
  },
  {
   "cell_type": "markdown",
   "metadata": {},
   "source": [
    "## Segundo exemplo\n",
    "\n",
    "Este exemplo faz uma autenticação de um funcionario de uma loja para checar se uma fruta existe no arquivo sample.txt. "
   ]
  },
  {
   "cell_type": "code",
   "execution_count": 7,
   "metadata": {
    "collapsed": false
   },
   "outputs": [
    {
     "name": "stdout",
     "output_type": "stream",
     "text": [
      "Flat Floor Street 18\n",
      "Enter your pin: 1234\n",
      "Enter fruit: orange\n",
      "That fruit is in the list.\n"
     ]
    }
   ],
   "source": [
    "address = [\"Flat Floor Street\", \"18\", \"New York\"]\n",
    "pins = {\"Mike\":1234, \"Joe\":1111, \"Jack\":2222}\n",
    "\n",
    "print(address[0], address[1])\n",
    "\n",
    "pin = int(input(\"Enter your pin: \"))\n",
    "\n",
    "def find_in_file(f):    \n",
    "    myfile = open(\"/home/victor/curso_python/sample.txt\")\n",
    "    fruits = myfile.read()\n",
    "    fruits = fruits.splitlines()\n",
    "    if f in fruits:\n",
    "        return \"That fruit is in the list.\"\n",
    "    else:\n",
    "        return \"No such fruit found!\"\n",
    "            \n",
    "if pin in pins.values():\n",
    "    fruit = input(\"Enter fruit: \")\n",
    "    print(find_in_file(fruit))\n",
    "else:\n",
    "    print(\"Incorrect pin!\") \n",
    "    print(\"This info can be accessed only by: \")\n",
    "    for key in pins.keys():\n",
    "        print(key)"
   ]
  },
  {
   "cell_type": "markdown",
   "metadata": {},
   "source": [
    "- __Variaveis__ \n",
    "    - É um nome que se refere a um valor. Um comando de atribuição cria uma nova variável e lhe dá um valor. \n",
    "    \n",
    "    - São usadas para guardarmos valores que serão usados mais tarde no programa. \n",
    "\n",
    "    - As variaveis criadas no exemplo foram _address_, _pins_, e _pin_. \n",
    "- __Atribuição__\n",
    "    - Um comando é uma unidade de código que o interpretador pode executar. Um comando de atribuição tem a seguinte forma\n",
    "    \n",
    "    $variável = expressão$\n",
    "    \n",
    "    Ex.:\n",
    "    \n",
    "\n",
    "    "
   ]
  },
  {
   "cell_type": "code",
   "execution_count": 8,
   "metadata": {
    "collapsed": true
   },
   "outputs": [],
   "source": [
    "num = 15\n",
    "soma = 0 #Comentario\n",
    "soma = soma + num\n",
    "a = 3\n",
    "b = 4"
   ]
  },
  {
   "cell_type": "markdown",
   "metadata": {},
   "source": [
    "- __List__\n",
    "    - É uma maneira de organizar os dados e facilitar seu acesso.\n",
    "    - São arranjos sequenciais de informações simples. \n",
    "    - Além de acesso sequencial, suporta acesso direto através de índices\n",
    "    - A lista criada foi [\"Flat Floor Street\", \"18\", \"New York\"]"
   ]
  },
  {
   "cell_type": "code",
   "execution_count": 21,
   "metadata": {
    "collapsed": false
   },
   "outputs": [
    {
     "data": {
      "text/plain": [
       "1"
      ]
     },
     "execution_count": 21,
     "metadata": {},
     "output_type": "execute_result"
    }
   ],
   "source": [
    "lista = [1, 'a', 2+3j, 'ab', 'CD']\n",
    "lista[0] #mostra o primeiro elemento da lista\n"
   ]
  },
  {
   "cell_type": "code",
   "execution_count": 22,
   "metadata": {
    "collapsed": false
   },
   "outputs": [
    {
     "data": {
      "text/plain": [
       "'CD'"
      ]
     },
     "execution_count": 22,
     "metadata": {},
     "output_type": "execute_result"
    }
   ],
   "source": [
    "lista[-1] #mostra o ultimo elemento da lista"
   ]
  },
  {
   "cell_type": "code",
   "execution_count": 24,
   "metadata": {
    "collapsed": false
   },
   "outputs": [
    {
     "data": {
      "text/plain": [
       "['a', (2+3j)]"
      ]
     },
     "execution_count": 24,
     "metadata": {},
     "output_type": "execute_result"
    }
   ],
   "source": [
    "lista[1:3] #mostra os elementos 1 e 2 da lista"
   ]
  },
  {
   "cell_type": "code",
   "execution_count": 28,
   "metadata": {
    "collapsed": false
   },
   "outputs": [
    {
     "data": {
      "text/plain": [
       "1"
      ]
     },
     "execution_count": 28,
     "metadata": {},
     "output_type": "execute_result"
    }
   ],
   "source": [
    "lista = [1,2,9,3,4]\n",
    "min(lista) #mostra o menor elemento da lista\n"
   ]
  },
  {
   "cell_type": "code",
   "execution_count": 29,
   "metadata": {
    "collapsed": false
   },
   "outputs": [
    {
     "data": {
      "text/plain": [
       "9"
      ]
     },
     "execution_count": 29,
     "metadata": {},
     "output_type": "execute_result"
    }
   ],
   "source": [
    "max(lista) #mostra o maior elemento da lista\n",
    "\n"
   ]
  },
  {
   "cell_type": "code",
   "execution_count": 30,
   "metadata": {
    "collapsed": false
   },
   "outputs": [
    {
     "data": {
      "text/plain": [
       "5"
      ]
     },
     "execution_count": 30,
     "metadata": {},
     "output_type": "execute_result"
    }
   ],
   "source": [
    "len(lista) #mostra o comprimento da lista\n"
   ]
  },
  {
   "cell_type": "markdown",
   "metadata": {},
   "source": [
    "- __Dicionário__\n",
    "    - São estruturas de dados que implementam mapeamentos\n",
    "    - Mapeamento: coleção de associações entre pares de valores\n",
    "    - O dicionario criado foi {\"Mike\":1234, \"Joe\":1111, \"Jack\":2222}\n",
    "\n"
   ]
  },
  {
   "cell_type": "code",
   "execution_count": 32,
   "metadata": {
    "collapsed": false
   },
   "outputs": [
    {
     "data": {
      "text/plain": [
       "3605728"
      ]
     },
     "execution_count": 32,
     "metadata": {},
     "output_type": "execute_result"
    }
   ],
   "source": [
    "dic = {\"joao\":3605728, \"maria\":32050728}\n",
    "dic[\"joao\"]"
   ]
  },
  {
   "cell_type": "code",
   "execution_count": 33,
   "metadata": {
    "collapsed": false
   },
   "outputs": [
    {
     "data": {
      "text/plain": [
       "3605728"
      ]
     },
     "execution_count": 33,
     "metadata": {},
     "output_type": "execute_result"
    }
   ],
   "source": [
    "dic.get(\"joao\")"
   ]
  },
  {
   "cell_type": "markdown",
   "metadata": {},
   "source": [
    "- __Função__\n",
    "    - Uma função é uma sequencia de instruições que computa um ou mais resultados que chamamos de parâmetros.\n",
    "    - Print() é uma função já definida.\n",
    "    - Usando def podemos criar nossas próprias funções.\n",
    "    - A função criada foi def find_in_file(f)\n"
   ]
  },
  {
   "cell_type": "code",
   "execution_count": 36,
   "metadata": {
    "collapsed": false
   },
   "outputs": [
    {
     "name": "stdout",
     "output_type": "stream",
     "text": [
      "velocidade: 5.0 m/s\n"
     ]
    }
   ],
   "source": [
    "def velocidade(espaco, tempo): #Faz o calculo da velocidade média \n",
    "    v = espaco/tempo\n",
    "    print('velocidade: {} m/s'.format(v))\n",
    "    \n",
    "velocidade(100,20) #chamando a função e passando os valores das variaveis"
   ]
  },
  {
   "cell_type": "markdown",
   "metadata": {},
   "source": [
    "_format()_: Lê o tipo de argumento passado e formata de acordo com o formato definido pela string. \n",
    "\n",
    "__Opções__{\"d\":decimal integer, \"c\":unicode character, \"b\": binary format, \"o\":octal format, \"x\": hexadecimal (lower case), \"X\":hexadecimal (upper case), \"%\":percentage}\n"
   ]
  },
  {
   "cell_type": "code",
   "execution_count": 37,
   "metadata": {
    "collapsed": false
   },
   "outputs": [
    {
     "name": "stdout",
     "output_type": "stream",
     "text": [
      "oi\n"
     ]
    }
   ],
   "source": [
    "def oi(): #Cria a função oi\n",
    "    print(\"oi\") #Imprime oi \n",
    "    \n",
    "oi() #Chamando a função"
   ]
  },
  {
   "cell_type": "markdown",
   "metadata": {},
   "source": [
    "- __Condição__\n",
    "    - If é uma estrutura de condição que permite avaliar uma expressão e, de acordo com o seu resultado, executar uma determinada ação.\n",
    "\n",
    "\n",
    "if Verdade:\n",
    "    \n",
    "    faça algo\n",
    "    \n",
    "else:\n",
    "\n",
    "    faça outra coisa"
   ]
  },
  {
   "cell_type": "code",
   "execution_count": 38,
   "metadata": {
    "collapsed": false
   },
   "outputs": [
    {
     "name": "stdout",
     "output_type": "stream",
     "text": [
      "adulto\n"
     ]
    }
   ],
   "source": [
    "idade = 18\n",
    "if idade < 12:\n",
    "    print('criança')\n",
    "elif idade < 18:\n",
    "    print ('adolescente')\n",
    "elif idade < 60:\n",
    "    print ('adulto')\n",
    "else:\n",
    "    print('idoso')"
   ]
  },
  {
   "cell_type": "markdown",
   "metadata": {},
   "source": [
    "- __Estrutura de repetição__\n",
    "\n",
    "    - For é uma estrutura de repetição, executa um ciclo para cada elemento do objeto que está sendo iterado.\n",
    "    - Range é usado para incrementar ou decrementar cada ciclo."
   ]
  },
  {
   "cell_type": "code",
   "execution_count": 40,
   "metadata": {
    "collapsed": false
   },
   "outputs": [
    {
     "name": "stdout",
     "output_type": "stream",
     "text": [
      "0\n",
      "1\n",
      "2\n",
      "3\n",
      "4\n",
      "5\n",
      "6\n",
      "7\n",
      "8\n",
      "9\n"
     ]
    }
   ],
   "source": [
    "for item in range(10):\n",
    "    print(item)"
   ]
  },
  {
   "cell_type": "markdown",
   "metadata": {},
   "source": [
    "- __Método__\n",
    "    - Função criada dentro de uma definição de classe e invocada em instâncias desta classe. \n",
    "    - Usados no exemplo: .read(), .close(), .splitlines()\n",
    "    - .splitlines(): Separa a string baseado em linhas, retorna uma lista de strings separadas. "
   ]
  },
  {
   "cell_type": "code",
   "execution_count": 41,
   "metadata": {
    "collapsed": false
   },
   "outputs": [
    {
     "name": "stdout",
     "output_type": "stream",
     "text": [
      "Python is a programming language\n"
     ]
    }
   ],
   "source": [
    "string = \"Python is a programming language\"\n",
    "string2 = string.splitlines()\n",
    "print(string)"
   ]
  },
  {
   "cell_type": "code",
   "execution_count": 42,
   "metadata": {
    "collapsed": false
   },
   "outputs": [
    {
     "name": "stdout",
     "output_type": "stream",
     "text": [
      "['Python is a programming language']\n"
     ]
    }
   ],
   "source": [
    "print(string2)"
   ]
  },
  {
   "cell_type": "code",
   "execution_count": 44,
   "metadata": {
    "collapsed": false
   },
   "outputs": [
    {
     "name": "stdout",
     "output_type": "stream",
     "text": [
      "['Python ', ' is a programming ', ' language']\n"
     ]
    }
   ],
   "source": [
    "string = \"Python \\n is a programming \\r language\"\n",
    "string2 = string.splitlines()\n",
    "print(string2)"
   ]
  },
  {
   "cell_type": "markdown",
   "metadata": {},
   "source": [
    "Resumo do código:\n",
    "![figura](https://i.ibb.co/gmSRnkz/image.png)"
   ]
  }
 ],
 "metadata": {
  "kernelspec": {
   "display_name": "Python 3",
   "language": "python",
   "name": "python3"
  },
  "language_info": {
   "codemirror_mode": {
    "name": "ipython",
    "version": 3
   },
   "file_extension": ".py",
   "mimetype": "text/x-python",
   "name": "python",
   "nbconvert_exporter": "python",
   "pygments_lexer": "ipython3",
   "version": "3.4.5"
  }
 },
 "nbformat": 4,
 "nbformat_minor": 2
}
